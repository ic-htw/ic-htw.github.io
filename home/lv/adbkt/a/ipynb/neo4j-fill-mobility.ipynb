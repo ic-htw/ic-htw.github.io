{
 "cells": [
  {
   "cell_type": "code",
   "execution_count": null,
   "metadata": {},
   "outputs": [],
   "source": [
    "!uv pip install neo4j"
   ]
  },
  {
   "cell_type": "markdown",
   "metadata": {},
   "source": [
    "# Import / Config"
   ]
  },
  {
   "cell_type": "code",
   "execution_count": null,
   "metadata": {},
   "outputs": [],
   "source": [
    "import pandas as pd\n",
    "from sqlalchemy import create_engine\n",
    "from neo4j import GraphDatabase\n",
    "from dotenv import dotenv_values\n",
    "\n",
    "c_pg = dotenv_values(\"cred-pg.txt\")\n",
    "c_neo4j = dotenv_values(\"cred-neo4j.txt\")"
   ]
  },
  {
   "cell_type": "markdown",
   "metadata": {},
   "source": [
    "## Postgres"
   ]
  },
  {
   "cell_type": "code",
   "execution_count": null,
   "metadata": {},
   "outputs": [],
   "source": [
    "engine = create_engine(\n",
    "    f'postgresql+psycopg://{c_pg[\"user\"]}:{c_pg[\"password\"]}@{c_pg[\"host\"]}/{c_pg[\"dbname\"]}', \n",
    "    connect_args = {\n",
    "        'options': '-c search_path=${user},ugeobln,ugm,uinsta,umisc,umobility,usozmed,public', \n",
    "        'keepalives_idle': 120\n",
    "    },\n",
    "    pool_size=1, \n",
    "    max_overflow=0,\n",
    "    execution_options={ 'isolation_level': 'AUTOCOMMIT' }\n",
    ")"
   ]
  },
  {
   "cell_type": "code",
   "execution_count": null,
   "metadata": {},
   "outputs": [],
   "source": [
    "with engine.connect() as con:\n",
    "    haltestelle_pdf = pd.read_sql_query(\"select * from haltestelle\", con)\n",
    "    segment_pdf = pd.read_sql_query(\"select * from segment\", con)\n",
    "    linie_pdf = pd.read_sql_query(\"select * from linie\", con)\n",
    "    unterlinie_pdf = pd.read_sql_query(\"select * from unterlinie\", con)\n",
    "    abschnitt_pdf = pd.read_sql_query(\"select * from abschnitt\", con)"
   ]
  },
  {
   "cell_type": "code",
   "execution_count": null,
   "metadata": {},
   "outputs": [],
   "source": [
    "abschnitt_pdf.info()"
   ]
  },
  {
   "cell_type": "markdown",
   "metadata": {},
   "source": [
    "## neo4j"
   ]
  },
  {
   "cell_type": "code",
   "execution_count": null,
   "metadata": {},
   "outputs": [],
   "source": [
    "neo4j_host = c_neo4j[\"neo4j_host\"]\n",
    "neo4j_auth = (c_neo4j[\"neo4j_userid\"], c_neo4j[\"neo4j_password\"])\n",
    "neo4j_host, neo4j_auth"
   ]
  },
  {
   "cell_type": "code",
   "execution_count": null,
   "metadata": {},
   "outputs": [],
   "source": [
    "cypher_create_stop = 'CREATE (h:Haltestelle {hid: $hid, bez: $bez, lat:$lat, lng:$lng})'\n",
    "with GraphDatabase.driver(neo4j_host, auth=neo4j_auth) as driver:\n",
    "    with driver.session() as session:\n",
    "        for r in haltestelle_pdf.itertuples(index=False):\n",
    "            session.run(cypher_create_stop, hid=r.hid, bez=r.bez, lat=r.lat, lng=r.lng)"
   ]
  },
  {
   "cell_type": "code",
   "execution_count": null,
   "metadata": {},
   "outputs": [],
   "source": [
    "cypher_create_linie = 'CREATE (l:Linie {lid: $lid, bez: $bez})'\n",
    "with GraphDatabase.driver(neo4j_host, auth=neo4j_auth) as driver:\n",
    "    with driver.session() as session:\n",
    "        for r in linie_pdf.itertuples(index=False):\n",
    "            session.run(cypher_create_linie, lid=r.lid, bez=r.bez)"
   ]
  },
  {
   "cell_type": "code",
   "execution_count": null,
   "metadata": {},
   "outputs": [],
   "source": [
    "cypher_create_segment = '''\n",
    "MATCH (ha:Haltestelle), (hb:Haltestelle)\n",
    "WHERE ha.hid=$hid_a AND hb.hid=$hid_b\n",
    "CREATE (s:Segment {hid_a: ha.hid, hid_b: hb.hid, laengeInMeter: $laengeInMeter})\n",
    "CREATE (s) -[:ProjSegA]-> (ha)\n",
    "CREATE (s) -[:ProjSegB]-> (hb)\n",
    "'''\n",
    "with GraphDatabase.driver(neo4j_host, auth=neo4j_auth) as driver:\n",
    "    with driver.session() as session:\n",
    "        for r in segment_pdf.itertuples(index=False):\n",
    "            session.run(cypher_create_segment, hid_a=r.hid_a, hid_b=r.hid_b, laengeInMeter=r.laenge_in_meter)"
   ]
  },
  {
   "cell_type": "code",
   "execution_count": null,
   "metadata": {},
   "outputs": [],
   "source": [
    "cypher_create_unterlinie = '''\n",
    "MATCH (l:Linie)\n",
    "WHERE l.lid=$lid\n",
    "CREATE (ul:Unterlinie {ulid: $ulid})\n",
    "CREATE (ul) -[:InL]-> (l)\n",
    "'''\n",
    "with GraphDatabase.driver(neo4j_host, auth=neo4j_auth) as driver:\n",
    "    with driver.session() as session:\n",
    "        for r in unterlinie_pdf.itertuples(index=False):\n",
    "            session.run(cypher_create_unterlinie, ulid=r.ulid, lid=r.lid)"
   ]
  },
  {
   "cell_type": "code",
   "execution_count": null,
   "metadata": {},
   "outputs": [],
   "source": [
    "cypher_create_abschnitt = '''\n",
    "MATCH (ha:Haltestelle), (hb:Haltestelle), (ul:Unterlinie)\n",
    "WHERE ha.hid=$hid_a AND hb.hid=$hid_b AND ul.ulid=$ulid\n",
    "CREATE (a:Abschnitt {nr: $nr, haelt: $haelt})\n",
    "CREATE (a) -[:InUL]-> (ul)\n",
    "CREATE (a) -[:ProjAbA]-> (ha)\n",
    "CREATE (a) -[:ProjAbB]-> (hb)\n",
    "'''\n",
    "with GraphDatabase.driver(neo4j_host, auth=neo4j_auth) as driver:\n",
    "    with driver.session() as session:\n",
    "        for r in abschnitt_pdf.itertuples(index=False):\n",
    "            session.run(cypher_create_abschnitt, ulid=r.ulid, nr=r.nr, hid_a=r.hid_a, hid_b=r.hid_b, haelt=r.haelt)"
   ]
  },
  {
   "cell_type": "code",
   "execution_count": null,
   "metadata": {},
   "outputs": [],
   "source": []
  }
 ],
 "metadata": {
  "kernelspec": {
   "display_name": "Python 3 (ipykernel)",
   "language": "python",
   "name": "python3"
  },
  "language_info": {
   "codemirror_mode": {
    "name": "ipython",
    "version": 3
   },
   "file_extension": ".py",
   "mimetype": "text/x-python",
   "name": "python",
   "nbconvert_exporter": "python",
   "pygments_lexer": "ipython3",
   "version": "3.12.8"
  },
  "vscode": {
   "interpreter": {
    "hash": "2d6fa041adfecd6e27df7d45c6447a3fc1437381c85a5efcc15b960708d9d702"
   }
  }
 },
 "nbformat": 4,
 "nbformat_minor": 4
}
