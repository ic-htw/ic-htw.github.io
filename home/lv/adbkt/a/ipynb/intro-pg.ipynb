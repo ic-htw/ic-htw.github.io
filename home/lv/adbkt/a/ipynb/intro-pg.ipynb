{
 "cells": [
  {
   "cell_type": "code",
   "execution_count": null,
   "metadata": {},
   "outputs": [],
   "source": [
    "!uv pip install -U psycopg[binary,pool] sqlalchemy pandas matplotlib dotenv"
   ]
  },
  {
   "cell_type": "code",
   "execution_count": null,
   "metadata": {
    "id": "JL3VAYEhHMzY"
   },
   "outputs": [],
   "source": [
    "import pandas as pd\n",
    "from sqlalchemy import create_engine, text\n",
    "from dotenv import dotenv_values\n",
    "\n",
    "c_pg = dotenv_values(\"cred-pg.txt\")\n",
    "\n",
    "# None = unbegrenzt\n",
    "pd.set_option(\"display.max_rows\", 50)\n",
    "pd.set_option(\"display.max_columns\", None)"
   ]
  },
  {
   "cell_type": "code",
   "execution_count": null,
   "metadata": {},
   "outputs": [],
   "source": [
    "engine = create_engine(\n",
    "    f'postgresql+psycopg://{c_pg[\"user\"]}:{c_pg[\"password\"]}@{c_pg[\"host\"]}/{c_pg[\"dbname\"]}', \n",
    "    connect_args = {\n",
    "        'options': '-c search_path=${user},ugeobln,ugm,uinsta,umisc,umobility,usozmed,public', \n",
    "        'keepalives_idle': 120\n",
    "    },\n",
    "    pool_size=1, \n",
    "    max_overflow=0,\n",
    "    execution_options={ 'isolation_level': 'AUTOCOMMIT' }\n",
    ")"
   ]
  },
  {
   "cell_type": "code",
   "execution_count": null,
   "metadata": {
    "id": "OnPPyzHk4_WN"
   },
   "outputs": [],
   "source": [
    "with engine.connect() as con:\n",
    "    sql = \"select rolname  from pg_roles where rolname like 'u%'\"\n",
    "    df = pd.read_sql_query(text(sql), con)\n",
    "df"
   ]
  },
  {
   "cell_type": "code",
   "execution_count": null,
   "metadata": {},
   "outputs": [],
   "source": [
    "with engine.connect() as con:\n",
    "    sql = \"\"\"\n",
    "    select schemaname, tablename \n",
    "    from pg_tables \n",
    "    where schemaname like 'u%'\n",
    "    order by schemaname, tablename\n",
    "    \"\"\"\n",
    "    df = pd.read_sql_query(text(sql), con)\n",
    "df"
   ]
  },
  {
   "cell_type": "code",
   "execution_count": null,
   "metadata": {
    "id": "l_WJVUkJkCvE"
   },
   "outputs": [],
   "source": [
    "with engine.connect() as con:\n",
    "    sql = \"\"\"\n",
    "    with\n",
    "      spy as (\n",
    "        select extract(year from sales_month) as jahr\n",
    "        from retail_sales\n",
    "      )\n",
    "    select jahr, count(*) as anzahl\n",
    "    from spy\n",
    "    where jahr >= 2010\n",
    "    group by jahr\n",
    "    order by jahr\n",
    "    \"\"\"\n",
    "    df = pd.read_sql_query(text(sql), con)\n",
    "df.jahr = df.jahr.astype('int32')\n",
    "df.set_index('jahr', inplace = True)\n",
    "df"
   ]
  },
  {
   "cell_type": "code",
   "execution_count": null,
   "metadata": {
    "id": "l_WJVUkJkCvE"
   },
   "outputs": [],
   "source": [
    "df.plot.bar()"
   ]
  },
  {
   "cell_type": "code",
   "execution_count": null,
   "metadata": {},
   "outputs": [],
   "source": []
  }
 ],
 "metadata": {
  "colab": {
   "authorship_tag": "ABX9TyP3hR/iaTVoa5T0jiLCYqvi",
   "collapsed_sections": [],
   "mount_file_id": "160Y7soBv-ooFoji_K8JAkM2juqMAPdfE",
   "name": "intro-cla.ipynb",
   "provenance": [
    {
     "file_id": "160Y7soBv-ooFoji_K8JAkM2juqMAPdfE",
     "timestamp": 1647272627451
    }
   ]
  },
  "kernelspec": {
   "display_name": "Python 3 (ipykernel)",
   "language": "python",
   "name": "python3"
  },
  "language_info": {
   "codemirror_mode": {
    "name": "ipython",
    "version": 3
   },
   "file_extension": ".py",
   "mimetype": "text/x-python",
   "name": "python",
   "nbconvert_exporter": "python",
   "pygments_lexer": "ipython3",
   "version": "3.12.8"
  },
  "vscode": {
   "interpreter": {
    "hash": "2d6fa041adfecd6e27df7d45c6447a3fc1437381c85a5efcc15b960708d9d702"
   }
  }
 },
 "nbformat": 4,
 "nbformat_minor": 4
}
