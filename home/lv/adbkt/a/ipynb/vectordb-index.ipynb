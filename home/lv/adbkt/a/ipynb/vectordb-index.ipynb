{
 "cells": [
  {
   "cell_type": "markdown",
   "metadata": {},
   "source": [
    "Dieses Notebook basiert auf Material von: https://zilliz.com/learn/vector-index"
   ]
  },
  {
   "cell_type": "code",
   "execution_count": 1,
   "metadata": {},
   "outputs": [
    {
     "name": "stdout",
     "output_type": "stream",
     "text": [
      "\u001b[2mUsing Python 3.12.8 environment at: .py312\u001b[0m\n",
      "\u001b[2mAudited \u001b[1m1 package\u001b[0m \u001b[2min 3ms\u001b[0m\u001b[0m\n"
     ]
    }
   ],
   "source": [
    "!uv pip install scipy"
   ]
  },
  {
   "cell_type": "markdown",
   "metadata": {},
   "source": [
    "# Import / Config"
   ]
  },
  {
   "cell_type": "code",
   "execution_count": 2,
   "metadata": {},
   "outputs": [],
   "source": [
    "import numpy as np\n",
    "from scipy.cluster.vq import kmeans2\n",
    "\n",
    "np.set_printoptions(precision=3, threshold=20, suppress=True)"
   ]
  },
  {
   "cell_type": "markdown",
   "metadata": {},
   "source": [
    "# Data Generation / Query Vector"
   ]
  },
  {
   "cell_type": "code",
   "execution_count": 3,
   "metadata": {},
   "outputs": [
    {
     "data": {
      "text/plain": [
       "array([[-0.253, -0.383, -0.406, ...,  0.18 , -0.448,  0.107],\n",
       "       [-1.252,  0.165,  0.664, ..., -1.347,  0.531, -1.985],\n",
       "       [ 1.798,  0.604, -0.341, ...,  1.271,  0.929,  2.086],\n",
       "       ...,\n",
       "       [-0.897,  0.119, -0.685, ..., -0.169,  0.857, -0.133],\n",
       "       [ 1.79 , -0.518, -1.168, ..., -0.037,  1.248, -1.068],\n",
       "       [-0.248, -0.075,  0.221, ..., -0.792,  1.625, -0.607]],\n",
       "      shape=(1000, 128))"
      ]
     },
     "execution_count": 3,
     "metadata": {},
     "output_type": "execute_result"
    }
   ],
   "source": [
    "np.random.seed(4711)\n",
    "dataset = np.random.normal(size=(1000, 128))\n",
    "dataset"
   ]
  },
  {
   "cell_type": "code",
   "execution_count": 4,
   "metadata": {},
   "outputs": [
    {
     "data": {
      "text/plain": [
       "array([-1.27 , -0.859,  0.116, ...,  0.145, -1.174, -0.453], shape=(128,))"
      ]
     },
     "execution_count": 4,
     "metadata": {},
     "output_type": "execute_result"
    }
   ],
   "source": [
    "query = np.random.normal(size=(128,))\n",
    "query"
   ]
  },
  {
   "cell_type": "markdown",
   "metadata": {},
   "source": [
    "# Linear Search"
   ]
  },
  {
   "cell_type": "code",
   "execution_count": 5,
   "metadata": {},
   "outputs": [
    {
     "name": "stdout",
     "output_type": "stream",
     "text": [
      "10 | 0\n",
      "20 | 1\n",
      "30 | 2\n"
     ]
    }
   ],
   "source": [
    "# Funktionsweise von argmin im Vergleich zu min\n",
    "# argmin ist der index des minimalen Wertes\n",
    "l1, l2, l3 = [10, 20, 30], [40, 20, 30], [40, 50, 30]\n",
    "print(f\"{np.min(l1)} | {np.argmin(l1)}\")\n",
    "print(f\"{np.min(l2)} | {np.argmin(l2)}\")\n",
    "print(f\"{np.min(l3)} | {np.argmin(l3)}\")"
   ]
  },
  {
   "cell_type": "code",
   "execution_count": 6,
   "metadata": {},
   "outputs": [
    {
     "name": "stdout",
     "output_type": "stream",
     "text": [
      "(1000,)\n",
      "[17.374 15.793 17.305 ... 17.906 16.369 16.277]\n"
     ]
    }
   ],
   "source": [
    "# np.linalg.norm berechnet die Länge des Vektors\n",
    "# in diesem Falle die Länges des Differenzvektors\n",
    "# Broadcating\n",
    "dists = np.linalg.norm(dataset - query, axis=1)\n",
    "print(dists.shape)\n",
    "print(dists)"
   ]
  },
  {
   "cell_type": "code",
   "execution_count": 7,
   "metadata": {},
   "outputs": [
    {
     "name": "stdout",
     "output_type": "stream",
     "text": [
      "211\n",
      "[ 0.642 -1.374  0.165 ...  1.923 -1.046 -0.186]\n"
     ]
    }
   ],
   "source": [
    "nearest1 = np.argmin(dists)\n",
    "# Index des nächstgelegenen Vektors\n",
    "print(nearest1)\n",
    "# Der Vektor selbst\n",
    "print(dataset[nearest1])"
   ]
  },
  {
   "cell_type": "markdown",
   "metadata": {},
   "source": [
    "# IVF Index - Inverted File Index"
   ]
  },
  {
   "cell_type": "code",
   "execution_count": 8,
   "metadata": {},
   "outputs": [
    {
     "name": "stdout",
     "output_type": "stream",
     "text": [
      "(16, 128)\n",
      "[[ 0.406 -0.094 -0.433 ...  0.065  0.632 -0.446]\n",
      " [-0.466 -0.748 -0.098 ...  0.599 -0.347 -0.656]\n",
      " [ 0.188  0.082 -0.093 ...  0.157  0.176 -0.294]\n",
      " ...\n",
      " [-0.006  0.142  0.002 ... -0.34   0.042  0.747]\n",
      " [ 0.06   0.072  0.252 ...  0.21   0.068  0.203]\n",
      " [-0.188  0.186  0.183 ... -0.188  0.172 -0.143]]\n",
      "(1000,)\n",
      "[13  2 12 ... 15  2 10]\n"
     ]
    }
   ],
   "source": [
    "num_part = 16  # Anzah IVF Partitionen\n",
    "(centroids, assignments) = kmeans2(dataset, num_part, iter=16, seed=102)\n",
    "print(centroids.shape)\n",
    "print(centroids)\n",
    "print(assignments.shape)\n",
    "print(assignments)"
   ]
  },
  {
   "cell_type": "code",
   "execution_count": 9,
   "metadata": {},
   "outputs": [
    {
     "name": "stdout",
     "output_type": "stream",
     "text": [
      "16\n",
      "[[], [], [], [], [], [], [], [], [], [], [], [], [], [], [], []]\n",
      "[81, 276, 311, 470, 623, 653, 741, 839, 970]\n",
      "[10, 21, 230, 349, 518, 545, 654, 842, 857, 916]\n"
     ]
    }
   ],
   "source": [
    "# Lege einen leeren Index an, d.h. num_part leere Partitionen\n",
    "index = [[] for _ in range(num_part)]\n",
    "print(len(index))\n",
    "print(index)\n",
    "\n",
    "# Ordne jeder Partition die Assigments zu\n",
    "for n, k in enumerate(assignments):\n",
    "    index[k].append(n)\n",
    "\n",
    "# Zeige beispielhaft Partition 1 und 9\n",
    "# Achtung: die Partitionen enhalten die Indizes der Vektoren\n",
    "# nicht die Vektoren selbst\n",
    "print(index[1])\n",
    "print(index[9])"
   ]
  },
  {
   "cell_type": "code",
   "execution_count": 10,
   "metadata": {},
   "outputs": [
    {
     "name": "stdout",
     "output_type": "stream",
     "text": [
      "[ 0.708 -1.25  -0.341 ... -0.874 -2.145  1.198]\n",
      "[ 0.642 -1.374  0.165 ...  1.923 -1.046 -0.186]\n"
     ]
    }
   ],
   "source": [
    "# Berechne den zur Query nächstgelegenen Zentroiden\n",
    "c = np.argmin(np.linalg.norm(centroids - query, axis=1))\n",
    "\n",
    "# dataset[index[c]] liefert einen 'Slice' aller Vektoren\n",
    "# nämlich genau die, die in der Partition des Zentroiden liegen\n",
    "# Die Berechnung der Abstände erfolgt nur im Slice, d.h. bzgl. eine Teilmenge der Vektoren\n",
    "nearest2 = np.argmin(np.linalg.norm(dataset[index[c]] - query, axis=1))  \n",
    "# Gib den zur Query nächstgelegenen Vektor aus,\n",
    "# der sich aus der Nutzung des Indexes ergibt\n",
    "print(dataset[index[c]][nearest2])\n",
    "# Gibt echten nächstgelegenen Vektor aus\n",
    "print(dataset[nearest1])\n",
    "# Man sieht unteschiedliche Werte, d.h. mit dem Index wird nur eine Näherungslösung ermittelt\n",
    "# Die Berechnung per Index ist aber erheblich schneller\n",
    "# Erhöhe dataset von 1000 auf eine Millionen Vektoren"
   ]
  },
  {
   "cell_type": "markdown",
   "metadata": {},
   "source": [
    "# Skalare Quantitisierung"
   ]
  },
  {
   "cell_type": "code",
   "execution_count": 11,
   "metadata": {},
   "outputs": [
    {
     "name": "stdout",
     "output_type": "stream",
     "text": [
      "(128,)\n",
      "[-3.016 -2.68  -3.892 ... -2.98  -3.526 -3.197]\n",
      "(128,)\n",
      "[3.414 4.067 3.279 ... 3.095 3.074 3.258]\n"
     ]
    }
   ],
   "source": [
    "# Berechne die minimalen Werte in jeder Vektordimensionen\n",
    "mins = np.min(dataset, axis=0)\n",
    "print(mins.shape)\n",
    "print(mins)\n",
    "\n",
    "# Berechne die maximalen Werte in jeder Vektordimensionen\n",
    "maxs = np.max(dataset, axis=0)\n",
    "print(maxs.shape)\n",
    "print(maxs)"
   ]
  },
  {
   "cell_type": "code",
   "execution_count": 12,
   "metadata": {},
   "outputs": [
    {
     "name": "stdout",
     "output_type": "stream",
     "text": [
      "(128,)\n",
      "[0.025 0.026 0.028 ... 0.024 0.026 0.025]\n"
     ]
    }
   ],
   "source": [
    "# Berechnung Bin-Größe bei 255 Bins\n",
    "bin_sizes = (maxs - mins) / 255\n",
    "print(bin_sizes.shape)\n",
    "print(bin_sizes)"
   ]
  },
  {
   "cell_type": "code",
   "execution_count": 13,
   "metadata": {},
   "outputs": [
    {
     "name": "stdout",
     "output_type": "stream",
     "text": [
      "float64\n",
      "uint8\n",
      "(1000, 128)\n",
      "[[109  86 123 ... 132 118 130]\n",
      " [ 69 107 162 ...  68 156  47]\n",
      " [190 124 126 ... 178 172 208]\n",
      " ...\n",
      " [ 84 105 114 ... 118 169 121]\n",
      " [190  81  96 ... 123 184  84]\n",
      " [109  98 146 ...  91 199 102]]\n"
     ]
    }
   ],
   "source": [
    "# Verteilung der Werte in die Bins\n",
    "# Die Vektoren haben jetzt uint8-Werte statt float64\n",
    "# d.h. 8-fache Reduzierung der Größe\n",
    "print(dataset.dtype)\n",
    "dataset_q = np.uint8((dataset - mins) / bin_sizes)\n",
    "print(dataset_q.dtype)\n",
    "print(dataset_q.shape)\n",
    "print(dataset_q)"
   ]
  },
  {
   "cell_type": "code",
   "execution_count": 14,
   "metadata": {},
   "outputs": [
    {
     "name": "stdout",
     "output_type": "stream",
     "text": [
      "(128,)\n",
      "[0 0 0 ... 0 0 0]\n",
      "(128,)\n",
      "[255 254 255 ... 255 255 255]\n"
     ]
    }
   ],
   "source": [
    "# Test, dass die quantitisierten Werte tasächlich zwischen 0 und 255 liegen\n",
    "# Der Wert 254 ergibt sich durch Ungenauigkeiten bei den floats\n",
    "mins_q = np.min(dataset_q, axis=0)\n",
    "print(mins_q.shape)\n",
    "print(mins_q)\n",
    "maxes_q = np.max(dataset_q, axis=0)\n",
    "print(maxes_q.shape)\n",
    "print(maxes_q)"
   ]
  },
  {
   "cell_type": "code",
   "execution_count": 15,
   "metadata": {},
   "outputs": [
    {
     "name": "stdout",
     "output_type": "stream",
     "text": [
      "(128,)\n",
      "[ 69  68 142 ... 131  90 108]\n"
     ]
    }
   ],
   "source": [
    "# Quantitisierung des Query-Vektors\n",
    "query_q = np.uint8((query - mins) / bin_sizes)\n",
    "print(query_q.shape)\n",
    "print(query_q)"
   ]
  },
  {
   "cell_type": "code",
   "execution_count": 16,
   "metadata": {},
   "outputs": [
    {
     "name": "stdout",
     "output_type": "stream",
     "text": [
      "56\n",
      "[ 77  51 171 ... 171 180 191]\n",
      "[-1.064 -1.306  0.933 ...  1.101  1.146  1.648]\n",
      "[ 0.642 -1.374  0.165 ...  1.923 -1.046 -0.186]\n"
     ]
    }
   ],
   "source": [
    "# Berechnung des nächstgelegenen Vektors auf quantitisierter Ebene\n",
    "dists2 = np.linalg.norm(dataset_q - query_q, axis=1)\n",
    "nearest3 = np.argmin(dists2)\n",
    "# Index des nächstgelegenen Vektors\n",
    "print(nearest3)\n",
    "# Der quantitisierte Vektor\n",
    "print(dataset_q[nearest3])\n",
    "# Der ursprüngliche Vektor\n",
    "print(dataset[nearest3])\n",
    "print(dataset[nearest1])\n",
    "# Auch hier wieder nur Näherungslösung"
   ]
  },
  {
   "cell_type": "markdown",
   "metadata": {},
   "source": [
    "# Produktquantitisierung"
   ]
  },
  {
   "cell_type": "code",
   "execution_count": 17,
   "metadata": {},
   "outputs": [],
   "source": [
    "# Aufteilung in 16 Subvektoren\n",
    "M = 16\n",
    "# Jeder Subvektor wird in 256 Regionen geclustert\n",
    "K = 128"
   ]
  },
  {
   "cell_type": "code",
   "execution_count": 18,
   "metadata": {},
   "outputs": [
    {
     "name": "stdout",
     "output_type": "stream",
     "text": [
      "8\n"
     ]
    }
   ],
   "source": [
    "# Anzahl Dimensionen pro Subvektor\n",
    "sublen = dataset.shape[1] // M\n",
    "print(sublen)"
   ]
  },
  {
   "cell_type": "code",
   "execution_count": 19,
   "metadata": {},
   "outputs": [
    {
     "name": "stdout",
     "output_type": "stream",
     "text": [
      "(1000, 8)\n",
      "[[-0.253 -0.383 -0.406 ... -0.582  0.081 -1.409]\n",
      " [-1.252  0.165  0.664 ... -0.758 -1.243 -0.524]\n",
      " [ 1.798  0.604 -0.341 ...  0.43   0.938 -0.348]\n",
      " ...\n",
      " [-0.897  0.119 -0.685 ...  0.888  0.605 -0.038]\n",
      " [ 1.79  -0.518 -1.168 ...  1.287  0.895 -1.35 ]\n",
      " [-0.248 -0.075  0.221 ... -0.422 -1.678  0.521]]\n"
     ]
    }
   ],
   "source": [
    "# Slice mit allen Zeilen und den ersten 8 Dimensionen\n",
    "subspace0 = dataset[:,0:sublen]\n",
    "print(subspace0.shape)\n",
    "print(subspace0)"
   ]
  },
  {
   "cell_type": "code",
   "execution_count": 20,
   "metadata": {},
   "outputs": [
    {
     "name": "stdout",
     "output_type": "stream",
     "text": [
      "(1000, 8)\n",
      "[[-3.339 -0.328 -0.64  ... -0.888 -2.056  0.795]\n",
      " [-0.201  0.092 -0.565 ... -0.421  0.499 -0.543]\n",
      " [ 0.214 -0.469  0.983 ... -0.292  0.166  0.142]\n",
      " ...\n",
      " [ 0.148 -1.431  2.002 ...  0.613 -0.47  -0.135]\n",
      " [ 0.84   0.906 -0.301 ... -1.594  0.109 -1.642]\n",
      " [-1.383  1.309  0.357 ...  0.176  1.215  1.314]]\n"
     ]
    }
   ],
   "source": [
    "# Slice mit allen Zeilen und den folgenden 8 Dimensionen\n",
    "subspace1 = dataset[:,sublen:sublen*2]\n",
    "print(subspace1.shape)\n",
    "print(subspace1)"
   ]
  },
  {
   "cell_type": "code",
   "execution_count": 21,
   "metadata": {},
   "outputs": [
    {
     "name": "stdout",
     "output_type": "stream",
     "text": [
      "(32, 8)\n",
      "[[ 1.023 -0.186  0.745 ...  0.34  -0.756 -0.103]\n",
      " [-0.052 -1.218  0.307 ... -0.234 -0.597  1.24 ]\n",
      " [-0.332  0.362  0.24  ... -0.251 -0.774 -0.968]\n",
      " ...\n",
      " [ 0.19  -0.171  1.243 ... -0.449  0.055  0.574]\n",
      " [ 1.611  0.526 -0.02  ...  0.9    1.042 -0.481]\n",
      " [ 0.332  1.425 -0.058 ... -1.087 -0.043  1.067]]\n",
      "(1000,)\n",
      "[14  2 16 ... 14 30 21]\n"
     ]
    }
   ],
   "source": [
    "# Clustering von subspace0\n",
    "(centroids0, assignments0) = kmeans2(subspace0, 32, iter=16, seed=102)\n",
    "print(centroids0.shape)\n",
    "print(centroids0)\n",
    "print(assignments0.shape)\n",
    "print(assignments0)"
   ]
  }
 ],
 "metadata": {
  "kernelspec": {
   "display_name": "Python 3 (ipykernel)",
   "language": "python",
   "name": "python3"
  },
  "language_info": {
   "codemirror_mode": {
    "name": "ipython",
    "version": 3
   },
   "file_extension": ".py",
   "mimetype": "text/x-python",
   "name": "python",
   "nbconvert_exporter": "python",
   "pygments_lexer": "ipython3",
   "version": "3.12.8"
  }
 },
 "nbformat": 4,
 "nbformat_minor": 4
}
