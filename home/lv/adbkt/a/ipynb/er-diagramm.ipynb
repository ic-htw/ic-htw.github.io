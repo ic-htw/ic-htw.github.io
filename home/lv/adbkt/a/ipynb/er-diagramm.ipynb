{
 "cells": [
  {
   "cell_type": "code",
   "execution_count": null,
   "metadata": {
    "id": "JL3VAYEhHMzY"
   },
   "outputs": [],
   "source": [
    "import pandas as pd\n",
    "from sqlalchemy import create_engine, text\n",
    "from dotenv import dotenv_values\n",
    "\n",
    "c_pg = dotenv_values(\"cred-pg.txt\")"
   ]
  },
  {
   "cell_type": "code",
   "execution_count": null,
   "metadata": {},
   "outputs": [],
   "source": [
    "engine = create_engine(\n",
    "    f'postgresql+psycopg://{c_pg[\"user\"]}:{c_pg[\"password\"]}@{c_pg[\"host\"]}/{c_pg[\"dbname\"]}', \n",
    "    connect_args = {\n",
    "        'options': '-c search_path=${user},ugeobln,ugm,uinsta,umisc,umobility,usozmed,public', \n",
    "        'keepalives_idle': 120\n",
    "    },\n",
    "    pool_size=1, \n",
    "    max_overflow=0,\n",
    "    execution_options={ 'isolation_level': 'AUTOCOMMIT' }\n",
    ")"
   ]
  },
  {
   "cell_type": "code",
   "execution_count": null,
   "metadata": {},
   "outputs": [],
   "source": [
    "def bsp_er_diagram():\n",
    "    return \"\"\"\n",
    "        @startuml\n",
    "        ' hide the spot\n",
    "        hide circle\n",
    "\n",
    "        ' avoid problems with angled crows feet\n",
    "        skinparam linetype ortho\n",
    "\n",
    "        entity \"E01\" as e01 {\n",
    "          *e1_id : number\n",
    "          --\n",
    "          *name : text\n",
    "          description : text\n",
    "        }\n",
    "\n",
    "        entity \"E02\" as e02 {\n",
    "          *e2_id : number\n",
    "          --\n",
    "          *e1_id : number (fk)\n",
    "          other_details : text\n",
    "        }\n",
    "\n",
    "        e01 ||..o{ e02\n",
    "        @enduml\n",
    "    \"\"\"\n",
    "\n",
    "print(bsp_er_diagram())"
   ]
  },
  {
   "cell_type": "code",
   "execution_count": null,
   "metadata": {},
   "outputs": [],
   "source": [
    "def emit_start():\n",
    "    return \"\"\"\n",
    "        @startuml\n",
    "        ' hide the spot\n",
    "        hide circle\n",
    "\n",
    "        ' avoid problems with angled crows feet\n",
    "        skinparam linetype ortho\n",
    "    \"\"\"   \n",
    "     \n",
    "def emit_end():\n",
    "    return \"\"\"\n",
    "        @enduml\n",
    "    \"\"\"   \n",
    "     \n",
    "def emit_entity(entity):\n",
    "    return f'''\n",
    "        entity \"{entity}\" as {entity} {{\n",
    "          id \n",
    "          --\n",
    "          attributes\n",
    "        }}\n",
    "    '''   \n",
    "     \n",
    "def emit_entities(entities):\n",
    "    return \"\".join([emit_entity(entity) for entity in entities])\n",
    "     \n",
    "def er_diagram(schema):\n",
    "    with engine.connect() as con:\n",
    "        sql = f\"\"\"\n",
    "        select tablename \n",
    "        from pg_tables \n",
    "        where schemaname = '{schema}'\n",
    "        order by tablename\n",
    "        \"\"\"\n",
    "        df = pd.read_sql_query(text(sql), con)       \n",
    "        return f\"{emit_start()} {emit_entities(df.tablename.values)} {emit_end()}\""
   ]
  },
  {
   "cell_type": "code",
   "execution_count": null,
   "metadata": {},
   "outputs": [],
   "source": [
    "print(er_diagram(\"umobility\"))"
   ]
  }
 ],
 "metadata": {
  "colab": {
   "authorship_tag": "ABX9TyP3hR/iaTVoa5T0jiLCYqvi",
   "collapsed_sections": [],
   "mount_file_id": "160Y7soBv-ooFoji_K8JAkM2juqMAPdfE",
   "name": "intro-cla.ipynb",
   "provenance": [
    {
     "file_id": "160Y7soBv-ooFoji_K8JAkM2juqMAPdfE",
     "timestamp": 1647272627451
    }
   ]
  },
  "kernelspec": {
   "display_name": "Python 3 (ipykernel)",
   "language": "python",
   "name": "python3"
  },
  "language_info": {
   "codemirror_mode": {
    "name": "ipython",
    "version": 3
   },
   "file_extension": ".py",
   "mimetype": "text/x-python",
   "name": "python",
   "nbconvert_exporter": "python",
   "pygments_lexer": "ipython3",
   "version": "3.12.8"
  },
  "vscode": {
   "interpreter": {
    "hash": "2d6fa041adfecd6e27df7d45c6447a3fc1437381c85a5efcc15b960708d9d702"
   }
  }
 },
 "nbformat": 4,
 "nbformat_minor": 4
}
