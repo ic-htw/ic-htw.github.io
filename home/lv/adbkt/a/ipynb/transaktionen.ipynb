{
 "cells": [
  {
   "cell_type": "code",
   "execution_count": 1,
   "id": "fdf26624-57ce-4696-a0b6-c838b7f3ccd0",
   "metadata": {},
   "outputs": [],
   "source": [
    "# !uv pip install -U psycopg[binary,pool] pandas dotenv"
   ]
  },
  {
   "cell_type": "markdown",
   "id": "72a952bd-0aa2-4789-82f6-e3aa875ab2e2",
   "metadata": {},
   "source": [
    "# Init"
   ]
  },
  {
   "cell_type": "markdown",
   "id": "cc15fdf7-2d9d-457e-af98-44410feaab6c",
   "metadata": {},
   "source": [
    "## Import "
   ]
  },
  {
   "cell_type": "code",
   "execution_count": 2,
   "id": "e450f088-9d36-4dfe-bb4b-bce4346ce995",
   "metadata": {},
   "outputs": [],
   "source": [
    "import psycopg\n",
    "\n",
    "from dotenv import dotenv_values\n",
    "conninfo = \" \".join([f'{c[0]}={c[1]}' for c in dotenv_values(\"cred-pg.txt\").items()])"
   ]
  },
  {
   "cell_type": "markdown",
   "id": "7d718e90-898e-464a-866d-255255adb38c",
   "metadata": {},
   "source": [
    "## Functions"
   ]
  },
  {
   "cell_type": "markdown",
   "id": "d88db61e-fa48-47d4-8ba3-f7529f90ba92",
   "metadata": {},
   "source": [
    "### Newline Printer"
   ]
  },
  {
   "cell_type": "code",
   "execution_count": 3,
   "id": "fd69a254-4cac-4e7f-a030-59cb8b73d44b",
   "metadata": {},
   "outputs": [],
   "source": [
    "def el():\n",
    "    print(\"\")"
   ]
  },
  {
   "cell_type": "markdown",
   "id": "3845044a-91f6-4420-b1b0-1da388d6daa2",
   "metadata": {},
   "source": [
    "### Print Separator"
   ]
  },
  {
   "cell_type": "code",
   "execution_count": 4,
   "id": "fb9d7800-5323-44f2-b5d2-be44ae0bca06",
   "metadata": {},
   "outputs": [],
   "source": [
    "def sep():\n",
    "    el()\n",
    "    print(f\"{'*' * 10}\")\n",
    "    el()"
   ]
  },
  {
   "cell_type": "markdown",
   "id": "016d3754-cac6-4827-a191-6c242fafb03b",
   "metadata": {},
   "source": [
    "### Indentation Printer"
   ]
  },
  {
   "cell_type": "code",
   "execution_count": 5,
   "id": "b5554040-58f8-4b05-910e-46d9364ac5ff",
   "metadata": {},
   "outputs": [],
   "source": [
    "def pil(il, msg): print(f\"{\" \" * il}-- {msg}\")\n",
    "def p1(msg): pil(IL1, msg)\n",
    "def p2(msg): pil(IL2, msg)\n",
    "def p3(msg): pil(IL3, msg)\n",
    "def p4(msg): pil(IL4, msg)"
   ]
  },
  {
   "cell_type": "markdown",
   "id": "3424acc5-7c1d-4e7a-bbf8-3baa3c0ef637",
   "metadata": {},
   "source": [
    "## Database"
   ]
  },
  {
   "cell_type": "markdown",
   "id": "14a901af-3b6f-44e2-9782-2e2bae47f1d0",
   "metadata": {},
   "source": [
    "### Table Contents"
   ]
  },
  {
   "cell_type": "code",
   "execution_count": 6,
   "id": "25dddf34-ac91-492f-b23e-33ca19bcdbbf",
   "metadata": {},
   "outputs": [],
   "source": [
    "def tc(conninfo, tn, ordering):\n",
    "    with psycopg.connect(conninfo) as con:\n",
    "        records = con.execute(f\"select * from {tn} order by {ordering}\").fetchall()\n",
    "    return records\n",
    "\n",
    "def show_tc(conninfo, tn, ordering, msg):\n",
    "    print(f\"{msg}: {tc(conninfo, tn, ordering)}\")"
   ]
  },
  {
   "cell_type": "markdown",
   "id": "03a908e2-08a2-422f-97bb-23548531d997",
   "metadata": {},
   "source": [
    "### ClassValue"
   ]
  },
  {
   "cell_type": "code",
   "execution_count": 7,
   "id": "db2a001a-770c-4c21-b80f-c03ed8391830",
   "metadata": {},
   "outputs": [],
   "source": [
    "def create_cv(conninfo):\n",
    "    sql1 = \"drop table if exists cv\"\n",
    "    sql2 = \"\"\" \n",
    "    create table cv (\n",
    "      cls integer not null,\n",
    "      val integer not null\n",
    "    )\n",
    "    \"\"\"\n",
    "    with psycopg.connect(conninfo) as con:\n",
    "        con.execute(sql1) \n",
    "        con.execute(sql2) \n",
    "\n",
    "def reset_cv(conninfo):\n",
    "    sql1 = \"delete from cv\"\n",
    "    sql2 = \"insert into cv values (1, 10), (1, 20), (2, 100), (2, 200)\"\n",
    "    with psycopg.connect(conninfo) as con:\n",
    "        con.execute(sql1) \n",
    "        con.execute(sql2) "
   ]
  },
  {
   "cell_type": "code",
   "execution_count": 8,
   "id": "dca25aff-bcbf-4498-bedb-9fd56713b1a6",
   "metadata": {},
   "outputs": [],
   "source": [
    "TBL_CV = \"cv\"\n",
    "ORD_CV = \"cls, val\"\n",
    "\n",
    "MSG_BEFORE_CV = \"Before (cls, val)\"\n",
    "MSG_AFTER_CV =  \"After  (cls, val)\"\n",
    "\n",
    "CV_ALL_SEL = \"select * from cv order by cls, val\"\n",
    "CV_INS_2 = \"insert into cv select 2, sum(val) from cv where cls=1\"\n",
    "CV_INS_1 = \"insert into cv select 1, sum(val) from cv where cls=2\""
   ]
  },
  {
   "cell_type": "markdown",
   "id": "f88d2ddc-2f21-483d-9955-67c2b2f79d1c",
   "metadata": {},
   "source": [
    "### Konto"
   ]
  },
  {
   "cell_type": "code",
   "execution_count": 9,
   "id": "a75c42e0-38f6-4882-9f4a-84e88aa0f139",
   "metadata": {},
   "outputs": [],
   "source": [
    "def create_konto(conninfo):\n",
    "    sql1 = \"drop table if exists konto\"\n",
    "    sql2 = \"\"\" \n",
    "    create table konto (\n",
    "      kid integer not null primary key,\n",
    "      betrag integer not null\n",
    "    )\n",
    "    \"\"\"\n",
    "    with psycopg.connect(conninfo) as con:\n",
    "        con.execute(sql1) \n",
    "        con.execute(sql2) \n",
    "\n",
    "def reset1_konto(conninfo):\n",
    "    reset_konto(conninfo, \"(100, 2), (200, 6)\")\n",
    "    \n",
    "def reset2_konto(conninfo):\n",
    "    reset_konto(conninfo, \"(100, 80), (200, 50)\")\n",
    "    \n",
    "def reset_konto(conninfo, values):\n",
    "    sql1 = \"delete from konto\"\n",
    "    sql2 = f\"insert into konto values {values}\"\n",
    "    with psycopg.connect(conninfo) as con:\n",
    "        con.execute(sql1) \n",
    "        con.execute(sql2) "
   ]
  },
  {
   "cell_type": "code",
   "execution_count": 10,
   "id": "5dd9641d-b842-4e9e-bcaf-0403dd6b3078",
   "metadata": {},
   "outputs": [],
   "source": [
    "TBL_KTO = \"konto\"\n",
    "ORD_KTO = \"kid\"\n",
    "\n",
    "MSG_BEFORE_KTO = \"Before (kid, betrag)\"\n",
    "MSG_AFTER_KTO =  \"After  (kid, betrag)\"\n",
    "\n",
    "KTO_ALL_SEL = \"select * from konto order by kid\"\n",
    "KTO_ALL_SEL_FOR_UPDATE = \"select * from konto order by kid for update\"\n",
    "KTO_100_SEL = \"select * from konto where kid=100\"\n",
    "KTO_200_SEL = \"select * from konto where kid=200\"\n",
    "KTO_100_UPD_3 = \"update konto set betrag = 3 where kid=100\"\n",
    "KTO_100_UPD_MINUS10 = \"update konto set betrag = -10 where kid=100\"\n",
    "KTO_100_UPD_WITHDRAW90 = \"update konto set betrag = betrag -90 where kid=100\"\n",
    "KTO_200_UPD_0 = \"update konto set betrag = 0 where kid=200\"\n",
    "KTO_200_UPD_WITHDRAW50 = \"update konto set betrag = betrag -50 where kid=200\"\n",
    "KTO_200_UPD_7 = \"update konto set betrag = 7 where kid=200\"\n",
    "KTO_300_INS_1 = \"insert into konto values (300, 1)\""
   ]
  },
  {
   "cell_type": "markdown",
   "id": "6a17be45-fa6e-4f71-9a7f-179078e5c7cf",
   "metadata": {},
   "source": [
    "### Personal"
   ]
  },
  {
   "cell_type": "code",
   "execution_count": 11,
   "id": "b8083cd0-5b92-43fd-a197-0cce140d4288",
   "metadata": {},
   "outputs": [],
   "source": [
    "def create_personal(conninfo):\n",
    "    sql1 = \"drop table if exists personal\"\n",
    "    sql2 = \"\"\" \n",
    "    create table personal (\n",
    "      pid integer not null primary key,\n",
    "      gehalt integer not null\n",
    "    )\n",
    "    \"\"\"\n",
    "    with psycopg.connect(conninfo) as con:\n",
    "        con.execute(sql1) \n",
    "        con.execute(sql2) \n",
    "\n",
    "def reset_personal(conninfo):\n",
    "    sql1 = \"delete from personal\"\n",
    "    sql2 = \"insert into personal values (100, 40000), (200, 50000)\"\n",
    "    with psycopg.connect(conninfo) as con:\n",
    "        con.execute(sql1) \n",
    "        con.execute(sql2) "
   ]
  },
  {
   "cell_type": "code",
   "execution_count": 12,
   "id": "27868075-793c-4d7c-9566-2964f8736143",
   "metadata": {},
   "outputs": [],
   "source": [
    "TBL_PERS = \"personal\"\n",
    "ORD_PERS = \"pid\"\n",
    "\n",
    "MSG_BEFORE_PERS = \"Before (pid, gehalt)\"\n",
    "MSG_AFTER_PERS =  \"After  (pid, gehalt)\"\n",
    "\n",
    "PERS_ALL_SEL = \"select * from personal order by pid\"\n",
    "PERS_100_SEL = \"select * from personal where pid=100\"\n",
    "PERS_200_SEL = \"select * from personal where pid=200\"\n",
    "PERS_ALL_SEL_FOR_SHARE = \"select * from personal order by pid for share\"\n",
    "PERS_ALL_SEL_FOR_UPDATE = \"select * from personal order by pid for update\"\n",
    "PERS_100_UPD_41000 = \"update personal set gehalt=41000 where pid=100\"\n",
    "PERS_100_UPD_ADD1000 = \"update personal set gehalt= gehalt + 1000 where pid=100\"\n",
    "PERS_100_UPD_42000 = \"update personal set gehalt=42000 where pid=100\"\n",
    "PERS_100_UPD_ADD2000 = \"update personal set gehalt= gehalt + 2000 where pid=100\"\n",
    "PERS_200_UPD_51000 = \"update personal set gehalt=51000 where pid=200\"\n",
    "PERS_100_DEL = \"delete from personal where pid=100\""
   ]
  },
  {
   "cell_type": "markdown",
   "id": "74f00610-6fce-45f7-b3bd-0fe1192ef814",
   "metadata": {},
   "source": [
    "### Website"
   ]
  },
  {
   "cell_type": "code",
   "execution_count": 13,
   "id": "4ec81de2-d6a2-41a8-8c47-82de31c2680a",
   "metadata": {},
   "outputs": [],
   "source": [
    "def create_website(conninfo):\n",
    "    sql1 = \"drop table if exists website\"\n",
    "    sql2 = \"\"\" \n",
    "    create table website (\n",
    "      wsid integer not null primary key,\n",
    "      hits integer not null\n",
    "    )\n",
    "    \"\"\"\n",
    "    with psycopg.connect(conninfo) as con:\n",
    "        con.execute(sql1) \n",
    "        con.execute(sql2) \n",
    "\n",
    "def reset_website(conninfo):\n",
    "    sql1 = \"delete from website\"\n",
    "    sql2 = \"insert into website values (100, 9), (200, 10)\"\n",
    "    with psycopg.connect(conninfo) as con:\n",
    "        con.execute(sql1) \n",
    "        con.execute(sql2) "
   ]
  },
  {
   "cell_type": "code",
   "execution_count": 14,
   "id": "498d6c14-3098-46e6-86e4-697fc8c4feb6",
   "metadata": {},
   "outputs": [],
   "source": [
    "TBL_WS = \"website\"\n",
    "ORD_WS = \"wsid\"\n",
    "\n",
    "MSG_BEFORE_WS = \"Before (wsid, hits)\"\n",
    "MSG_AFTER_WS =  \"After  (wsid, hits)\"\n",
    "\n",
    "WS_ALL_SEL = \"select * from website order by wsid\"\n",
    "WS_ALL_UPD = \"update website set hits = hits + 1\"\n",
    "WS_HITS10_DEL = \"delete from website where hits = 10\""
   ]
  },
  {
   "cell_type": "markdown",
   "id": "8cd44d5a-7699-4110-8196-ba414b310d78",
   "metadata": {},
   "source": [
    "# Transaction Code"
   ]
  },
  {
   "cell_type": "markdown",
   "id": "014c694e-fb3e-488c-9efa-08c6c9ed83b6",
   "metadata": {},
   "source": [
    "## Trans"
   ]
  },
  {
   "cell_type": "code",
   "execution_count": 15,
   "id": "f70d5468-72cd-44af-82e8-78884cb00287",
   "metadata": {},
   "outputs": [],
   "source": [
    "class Trans:\n",
    "    def __init__(self, tname, il):\n",
    "        self.tname = tname\n",
    "        self.ind = \" \" * il\n",
    "        self.pre = f\"{self.ind}{self.tname}:\"\n",
    "        self.exc_occured = False\n",
    "\n",
    "\n",
    "    def start(self, conninfo, iso):\n",
    "        print(f\"{self.pre} START: {iso.name}\")\n",
    "        try:\n",
    "            self.conn = psycopg.Connection.connect(conninfo)\n",
    "            self.conn.set_isolation_level(iso)\n",
    "            return self\n",
    "        except Exception as e:\n",
    "            print(f\"Error connecting to the database: {e}\")\n",
    "            raise\n",
    "        \n",
    "    def c(self, comment):\n",
    "        print(f\"{self.ind}-- {comment}\")\n",
    "\n",
    "    def execute(self, sql, sel=\"\", print_pre=False, print_post=True):\n",
    "        if self.exc_occured: return\n",
    "        try:\n",
    "            if print_pre: \n",
    "                cur = self.conn.execute(sel)\n",
    "                print(f\"{self.pre}{cur.fetchall()}\")    \n",
    "            print(f\"{self.pre} {sql}\")\n",
    "            self.conn.execute(sql)\n",
    "            if print_post: \n",
    "                cur = self.conn.execute(sel)\n",
    "                print(f\"{self.pre}{cur.fetchall()}\")    \n",
    "        except Exception as e:\n",
    "            print(f\"{self.pre} {type(e).__name__}\")\n",
    "            self.exc_occured = True\n",
    "\n",
    "    def commit_and_close(self):\n",
    "        if self.exc_occured: return\n",
    "        try:\n",
    "            self.conn.commit()\n",
    "            self.close()\n",
    "            print(f\"{self.pre} commit and close\")\n",
    "        except Exception as e:\n",
    "            print(f\"{self.pre} {type(e).__name__}\")  \n",
    "            \n",
    "    def rollback_and_close(self):\n",
    "        if self.exc_occured: return\n",
    "        try:\n",
    "            self.conn.rollback()\n",
    "            self.close()\n",
    "            print(f\"{self.pre} rollback and close\")\n",
    "        except Exception as e:\n",
    "            print(f\"{self.pre} {type(e).__name__}\")\n",
    "            \n",
    "    def close(self):\n",
    "        if self.exc_occured: return\n",
    "        try:\n",
    "            self.conn.close()\n",
    "        except Exception as e:\n",
    "            print(f\"Error closing connection: {e}\")\n",
    "        self.conn = None \n",
    "        self.cursor = None\n",
    "        "
   ]
  },
  {
   "cell_type": "markdown",
   "id": "4a99699f-107f-42c8-8593-4a869294e8bf",
   "metadata": {},
   "source": [
    "# Config"
   ]
  },
  {
   "cell_type": "markdown",
   "id": "814315d9-52b3-409e-8909-9c16eed2bb63",
   "metadata": {},
   "source": [
    "## Globals"
   ]
  },
  {
   "cell_type": "code",
   "execution_count": 16,
   "id": "f36d3db3-7bcf-4692-a8f4-7e7a54a327f5",
   "metadata": {},
   "outputs": [],
   "source": [
    "RC, RR, SER = psycopg.IsolationLevel.READ_COMMITTED, psycopg.IsolationLevel.REPEATABLE_READ, psycopg.IsolationLevel.SERIALIZABLE\n",
    "IL1, IL2, IL3, IL4 = 0, 4, 8, 12\n",
    "TREAD, T1, T2, T3, T4 = \"TRead\", \"T1\", \"T2\", \"T3\", \"T4\""
   ]
  },
  {
   "cell_type": "markdown",
   "id": "648a255f-717f-49d7-802d-1bb0f9a5fe8d",
   "metadata": {},
   "source": [
    "## Create Tables"
   ]
  },
  {
   "cell_type": "code",
   "execution_count": 17,
   "id": "42222313-2e35-4897-97b2-553e59c24c7c",
   "metadata": {},
   "outputs": [],
   "source": [
    "create_cv(conninfo)\n",
    "create_konto(conninfo)\n",
    "create_personal(conninfo)\n",
    "create_website(conninfo)"
   ]
  },
  {
   "cell_type": "markdown",
   "id": "49dae717-4782-4be2-9d6a-7b656b82b33f",
   "metadata": {},
   "source": [
    "# Benutzung Transaktionscode"
   ]
  },
  {
   "cell_type": "markdown",
   "id": "638f1861-5249-413a-8b3b-bc2e57949c01",
   "metadata": {},
   "source": [
    "## Commit, Rolllback"
   ]
  },
  {
   "cell_type": "code",
   "execution_count": 18,
   "id": "4f0f4aed-afb3-4d81-af69-08139b8308d1",
   "metadata": {},
   "outputs": [
    {
     "name": "stdout",
     "output_type": "stream",
     "text": [
      "Before (pid, gehalt): [(100, 40000), (200, 50000)]\n",
      "\n",
      "T1: START: READ_COMMITTED\n",
      "T1: update personal set gehalt=41000 where pid=100\n",
      "T1: commit and close\n",
      "\n",
      "After  (pid, gehalt): [(100, 41000), (200, 50000)]\n",
      "\n",
      "**********\n",
      "\n",
      "Before (pid, gehalt): [(100, 40000), (200, 50000)]\n",
      "\n",
      "T1: START: READ_COMMITTED\n",
      "T1: update personal set gehalt=41000 where pid=100\n",
      "T1: rollback and close\n",
      "\n",
      "After  (pid, gehalt): [(100, 40000), (200, 50000)]\n"
     ]
    }
   ],
   "source": [
    "reset_personal(conninfo)\n",
    "show_tc(conninfo, TBL_PERS, ORD_PERS, MSG_BEFORE_PERS)\n",
    "el()\n",
    "t1 = Trans(T1, IL1).start(conninfo, RC)\n",
    "t1.execute(PERS_100_UPD_41000, PERS_ALL_SEL, print_post=False)\n",
    "t1.commit_and_close()\n",
    "el()\n",
    "show_tc(conninfo, TBL_PERS, ORD_PERS, MSG_AFTER_PERS)\n",
    "\n",
    "sep()\n",
    "\n",
    "reset_personal(conninfo)\n",
    "show_tc(conninfo, TBL_PERS, ORD_PERS, MSG_BEFORE_PERS)\n",
    "el()\n",
    "t1 = Trans(T1, IL1).start(conninfo, RC)\n",
    "t1.execute(PERS_100_UPD_41000, PERS_ALL_SEL, print_post=False)\n",
    "t1.rollback_and_close()\n",
    "el()\n",
    "show_tc(conninfo, TBL_PERS, ORD_PERS, MSG_AFTER_PERS)\n"
   ]
  },
  {
   "cell_type": "markdown",
   "id": "4cb74bec-d009-4aa4-860c-167287fe0993",
   "metadata": {},
   "source": [
    "# Szenarien (ohne Update-Konflikte)"
   ]
  },
  {
   "cell_type": "markdown",
   "id": "bf393cd5-fe5e-49ae-b2f3-edd99ee60ef2",
   "metadata": {},
   "source": [
    "## Snapshot - Read Committed"
   ]
  },
  {
   "cell_type": "code",
   "execution_count": null,
   "id": "9c0d6337-0e21-4721-8ac2-8179814162db",
   "metadata": {},
   "outputs": [],
   "source": []
  },
  {
   "cell_type": "markdown",
   "id": "f81ff1b9-f413-4896-808f-10d80c3dd446",
   "metadata": {},
   "source": [
    "## Snapshot - Repeatble Read"
   ]
  },
  {
   "cell_type": "code",
   "execution_count": null,
   "id": "7135d152-c925-4627-b8f3-67067b3281e8",
   "metadata": {},
   "outputs": [],
   "source": []
  },
  {
   "cell_type": "markdown",
   "id": "b201e816-099d-426a-8260-9105d4e947f8",
   "metadata": {},
   "source": [
    "## Lost Update"
   ]
  },
  {
   "cell_type": "code",
   "execution_count": null,
   "id": "37a43ea8-c48b-4e5f-b3b1-dc99b21f6fe2",
   "metadata": {},
   "outputs": [],
   "source": []
  },
  {
   "cell_type": "markdown",
   "id": "aaba209c-4684-41f6-a272-592fafd1e96f",
   "metadata": {},
   "source": [
    "## Write Skew"
   ]
  },
  {
   "cell_type": "code",
   "execution_count": null,
   "id": "bdf3e9c6-65d4-4e61-ba21-f55a5dfc2c35",
   "metadata": {},
   "outputs": [],
   "source": []
  },
  {
   "cell_type": "markdown",
   "id": "02ac11b6-39a1-43d8-8b42-604bbcbc0cc8",
   "metadata": {},
   "source": [
    "## Serialisierungsfehler - Datenüberschneidung"
   ]
  },
  {
   "cell_type": "code",
   "execution_count": null,
   "id": "6aa36f8c-cb7f-410d-be73-fcac5352da79",
   "metadata": {},
   "outputs": [],
   "source": []
  }
 ],
 "metadata": {
  "kernelspec": {
   "display_name": "Python 3 (ipykernel)",
   "language": "python",
   "name": "python3"
  },
  "language_info": {
   "codemirror_mode": {
    "name": "ipython",
    "version": 3
   },
   "file_extension": ".py",
   "mimetype": "text/x-python",
   "name": "python",
   "nbconvert_exporter": "python",
   "pygments_lexer": "ipython3",
   "version": "3.12.8"
  }
 },
 "nbformat": 4,
 "nbformat_minor": 5
}
