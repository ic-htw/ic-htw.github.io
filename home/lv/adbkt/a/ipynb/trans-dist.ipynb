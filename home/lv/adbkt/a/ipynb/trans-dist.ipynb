{
 "cells": [
  {
   "cell_type": "code",
   "execution_count": null,
   "id": "fdf26624-57ce-4696-a0b6-c838b7f3ccd0",
   "metadata": {},
   "outputs": [],
   "source": [
    "# !uv pip install -U psycopg[binary,pool] pandas dotenv"
   ]
  },
  {
   "cell_type": "code",
   "execution_count": null,
   "id": "e450f088-9d36-4dfe-bb4b-bce4346ce995",
   "metadata": {},
   "outputs": [],
   "source": [
    "import psycopg\n",
    "\n",
    "from dotenv import dotenv_values\n",
    "conninfo1 = \" \".join([f'{c[0]}={c[1]}' for c in dotenv_values(\"cred-pg1.txt\").items()])\n",
    "conninfo2 = \" \".join([f'{c[0]}={c[1]}' for c in dotenv_values(\"cred-pg2.txt\").items()])"
   ]
  },
  {
   "cell_type": "code",
   "execution_count": null,
   "id": "66542395-86c3-4388-becb-d353825eabd6",
   "metadata": {},
   "outputs": [],
   "source": [
    "def create_kto(conninfo):\n",
    "    sql1 = \"drop table if exists kto\"\n",
    "    sql2 = \"\"\" \n",
    "    create table kto (\n",
    "      kid integer not null,\n",
    "      val integer not null\n",
    "    )\n",
    "    \"\"\"\n",
    "    with psycopg.connect(conninfo) as conn:\n",
    "        conn.execute(sql1) \n",
    "        conn.execute(sql2) \n",
    "\n",
    "def reset_kto(conninfo, kid, val):\n",
    "    sql1 = \"delete from kto\"\n",
    "    sql2 = f\"insert into kto values ({kid}, {val})\"\n",
    "    with psycopg.connect(conninfo) as conn:\n",
    "        conn.execute(sql1)\n",
    "        conn.execute(sql2)\n",
    "\n",
    "def show_kto(conninfo):\n",
    "    sql = \"select * from kto\"\n",
    "    with psycopg.connect(conninfo) as conn:\n",
    "        rs = conn.execute(sql).fetchall()\n",
    "        return rs\n",
    "\n",
    "def print_all():\n",
    "    print(f\"pg1: {show_kto(conninfo1)}\")\n",
    "    print(f\"pg2: {show_kto(conninfo2)}\")"
   ]
  },
  {
   "cell_type": "code",
   "execution_count": null,
   "id": "808cb5c2-ed31-4147-8261-0a5e3e262304",
   "metadata": {},
   "outputs": [],
   "source": [
    "create_kto(conninfo1)\n",
    "create_kto(conninfo2)"
   ]
  },
  {
   "cell_type": "code",
   "execution_count": null,
   "id": "6ad70ef4-68fb-4199-9ffd-5f79118acd0d",
   "metadata": {},
   "outputs": [],
   "source": [
    "reset_kto(conninfo1, 1001, 200)\n",
    "reset_kto(conninfo2, 1002, 500)"
   ]
  },
  {
   "cell_type": "code",
   "execution_count": null,
   "id": "dacda3c7-ce8b-482a-aca1-71a1dfa1357c",
   "metadata": {},
   "outputs": [],
   "source": [
    "print_all()"
   ]
  }
 ],
 "metadata": {
  "kernelspec": {
   "display_name": "Python 3 (ipykernel)",
   "language": "python",
   "name": "python3"
  },
  "language_info": {
   "codemirror_mode": {
    "name": "ipython",
    "version": 3
   },
   "file_extension": ".py",
   "mimetype": "text/x-python",
   "name": "python",
   "nbconvert_exporter": "python",
   "pygments_lexer": "ipython3",
   "version": "3.12.8"
  }
 },
 "nbformat": 4,
 "nbformat_minor": 5
}
