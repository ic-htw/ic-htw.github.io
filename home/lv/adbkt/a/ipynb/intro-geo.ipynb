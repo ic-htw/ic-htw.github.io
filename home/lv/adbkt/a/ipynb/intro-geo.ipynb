{
 "cells": [
  {
   "cell_type": "code",
   "execution_count": null,
   "metadata": {},
   "outputs": [],
   "source": [
    "!uv pip install folium"
   ]
  },
  {
   "cell_type": "markdown",
   "metadata": {
    "id": "pxBJnkCLF-D9"
   },
   "source": [
    "## Import / Config"
   ]
  },
  {
   "cell_type": "code",
   "execution_count": null,
   "metadata": {
    "id": "zOiYLJKIF-D_"
   },
   "outputs": [],
   "source": [
    "import pandas as pd\n",
    "from sqlalchemy import create_engine, text\n",
    "import folium\n",
    "from dotenv import dotenv_values\n",
    "\n",
    "c_pg = dotenv_values(\"cred-pg.txt\")\n"
   ]
  },
  {
   "cell_type": "code",
   "execution_count": null,
   "metadata": {
    "id": "f8re7lmmF-EB"
   },
   "outputs": [],
   "source": [
    "def lat_lng_from_sql(sql, engine):\n",
    "    with engine.connect() as con:\n",
    "        lat_lng_df = pd.read_sql_query(text(sql), con)\n",
    "    return lat_lng_df.iat[0,0], lat_lng_df.iat[0,1]\n",
    "\n",
    "def geojson_from_sql(sql, engine):\n",
    "    with engine.connect() as con:\n",
    "        geojson_df = pd.read_sql_query(text(sql), con)\n",
    "    return geojson_df.iat[0,0]\n",
    " "
   ]
  },
  {
   "cell_type": "markdown",
   "metadata": {
    "id": "iBrddgrAF-EC"
   },
   "source": [
    "## Engine"
   ]
  },
  {
   "cell_type": "code",
   "execution_count": null,
   "metadata": {
    "id": "PKldKjuiF-EF"
   },
   "outputs": [],
   "source": [
    "engine = create_engine(\n",
    "    f'postgresql+psycopg://{c_pg[\"user\"]}:{c_pg[\"password\"]}@{c_pg[\"host\"]}/{c_pg[\"dbname\"]}', \n",
    "    connect_args = {\n",
    "        'options': '-c search_path=${user},ugeobln,ugm,uinsta,umisc,umobility,usozmed,public', \n",
    "        'keepalives_idle': 120\n",
    "    },\n",
    "    pool_size=1, \n",
    "    max_overflow=0,\n",
    "    execution_options={ 'isolation_level': 'AUTOCOMMIT' }\n",
    ")"
   ]
  },
  {
   "cell_type": "code",
   "execution_count": null,
   "metadata": {},
   "outputs": [],
   "source": [
    "# engine.dispose()"
   ]
  },
  {
   "cell_type": "markdown",
   "metadata": {
    "id": "-xWpZ5ISF-EF"
   },
   "source": [
    "## HTW"
   ]
  },
  {
   "cell_type": "code",
   "execution_count": null,
   "metadata": {
    "id": "6ePxvEimF-EG"
   },
   "outputs": [],
   "source": [
    "sql = \"\"\"\n",
    "select ST_Y(ST_Centroid(geometry)) as lat, ST_X(ST_Centroid(geometry)) as lng\n",
    "from gis_osm_pois_a_free_1 \n",
    "where osm_id ='41361350'; \n",
    "\"\"\"\n",
    "\n",
    "lat, lng = lat_lng_from_sql(sql, engine)\n",
    "print(f\"{lat}, {lng}\")\n",
    "m = folium.Map(location=[lat, lng], zoom_start=16)\n",
    "folium.Marker(\n",
    "    location=[lat, lng],\n",
    "    tooltip=\"HTW\"\n",
    ").add_to(m)\n",
    "\n",
    "sql = \"\"\"\n",
    "select ST_AsGeoJSON(geometry)\n",
    "from gis_osm_pois_a_free_1 \n",
    "where osm_id ='41361350'; \n",
    "\"\"\"\n",
    "geojson = geojson_from_sql(sql, engine)\n",
    "folium.GeoJson(geojson).add_to(m)\n",
    "m"
   ]
  },
  {
   "cell_type": "markdown",
   "metadata": {
    "id": "teFkAhNlF-EH"
   },
   "source": [
    "## Bezirke"
   ]
  },
  {
   "cell_type": "code",
   "execution_count": null,
   "metadata": {
    "id": "0VTp5rmkF-EI"
   },
   "outputs": [],
   "source": [
    "m = folium.Map(location=[52.5170365, 13.3888599], zoom_start=10)\n",
    "\n",
    "sql = \"\"\"\n",
    "select name as bname, ST_AsGeoJSON(shape) as geojson\n",
    "from bezirk; \n",
    "\"\"\"\n",
    "with engine.connect() as con:\n",
    "    pdf = pd.read_sql_query(text(sql), con)\n",
    "\n",
    "for b in pdf.apply(lambda r: folium.GeoJson(r.geojson), axis=1):\n",
    "    b.add_to(m)\n",
    "\n",
    "sql = \"\"\"\n",
    "select \n",
    "  name as bname, \n",
    "  ST_Y(ST_Centroid(shape)) as clat, \n",
    "  ST_X(ST_Centroid(shape)) as clng\n",
    "from bezirk;\n",
    "\"\"\"\n",
    "with engine.connect() as con:\n",
    "    pdf = pd.read_sql_query(text(sql), con)\n",
    "\n",
    "def cmarker(r):\n",
    "    loc = [r.clat, r.clng]\n",
    "    html = f'<font color=\"green\">{r.bname}</font>'\n",
    "    divicon = folium.DivIcon(html=html)\n",
    "    return folium.Marker(location=loc, icon=divicon)\n",
    "\n",
    "for bc in pdf.apply(lambda r: cmarker(r), axis=1):\n",
    "    bc.add_to(m)\n",
    "\n",
    "sql = \"\"\"\n",
    "select ST_AsGeoJSON(ST_Extent(shape)) as bbox\n",
    "from bezirk; \n",
    "\"\"\"\n",
    "bb_berlin = geojson_from_sql(sql, engine)\n",
    "folium.GeoJson(bb_berlin).add_to(m)\n",
    "m"
   ]
  },
  {
   "cell_type": "markdown",
   "metadata": {
    "id": "BoeBBYANF-EJ"
   },
   "source": [
    "## Haltestellen"
   ]
  },
  {
   "cell_type": "code",
   "execution_count": null,
   "metadata": {
    "id": "FWNxAx8MF-EJ"
   },
   "outputs": [],
   "source": [
    "m = folium.Map(location=[52.5170365, 13.3888599], zoom_start=13)\n",
    "sql = \"\"\"\n",
    "select ST_AsGeoJSON(\n",
    "    ST_Transform((st_dump(ST_VoronoiPolygons(\n",
    "        st_collect(h.posp)))).geom, 4326)\n",
    "    ) as geojson\n",
    "from haltestelle h\n",
    "\"\"\"\n",
    "with engine.connect() as con:\n",
    "    pdf = pd.read_sql_query(text(sql), con)\n",
    "\n",
    "for v in pdf.apply(lambda r: folium.GeoJson(r.geojson), axis=1):\n",
    "    v.add_to(m)\n",
    "\n",
    "sql = \"\"\"\n",
    "select bez, lat, lng\n",
    "from haltestelle;\n",
    "\"\"\"\n",
    "with engine.connect() as con:\n",
    "    pdf = pd.read_sql_query(text(sql), con)\n",
    "\n",
    "def hcircle(r):\n",
    "    loc = [r.lat, r.lng]\n",
    "    return folium.Circle(\n",
    "        location=loc, radius=20, \n",
    "        fill=True, fill_color=\"blue\", \n",
    "        tooltip=r.bez\n",
    "    )\n",
    "\n",
    "for h in pdf.apply(lambda r: hcircle(r), axis=1):\n",
    "    h.add_to(m)\n",
    "m"
   ]
  }
 ],
 "metadata": {
  "colab": {
   "collapsed_sections": [],
   "name": "geo.ipynb",
   "provenance": [
    {
     "file_id": "1jr4U_2zk8cMRw1Q7-eBGxvo1TMCse-En",
     "timestamp": 1647340194270
    },
    {
     "file_id": "1t3N8KcE1ggy-TAJSplTKHvu08o4PyUr0",
     "timestamp": 1647339680510
    }
   ]
  },
  "kernelspec": {
   "display_name": "Python 3 (ipykernel)",
   "language": "python",
   "name": "python3"
  },
  "language_info": {
   "codemirror_mode": {
    "name": "ipython",
    "version": 3
   },
   "file_extension": ".py",
   "mimetype": "text/x-python",
   "name": "python",
   "nbconvert_exporter": "python",
   "pygments_lexer": "ipython3",
   "version": "3.12.8"
  },
  "vscode": {
   "interpreter": {
    "hash": "2d6fa041adfecd6e27df7d45c6447a3fc1437381c85a5efcc15b960708d9d702"
   }
  }
 },
 "nbformat": 4,
 "nbformat_minor": 4
}
