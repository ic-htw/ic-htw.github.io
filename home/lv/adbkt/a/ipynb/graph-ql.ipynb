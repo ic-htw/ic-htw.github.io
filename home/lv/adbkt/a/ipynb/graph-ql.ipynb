{
 "cells": [
  {
   "cell_type": "code",
   "execution_count": null,
   "metadata": {},
   "outputs": [],
   "source": [
    "from graphql.parser import GraphQLParser\n",
    "parser = GraphQLParser()"
   ]
  },
  {
   "cell_type": "code",
   "execution_count": null,
   "metadata": {},
   "outputs": [],
   "source": [
    "ast1 = parser.parse(\"\"\"\n",
    "query {\n",
    "  kunde(kid: \"10001\") {\n",
    "    name\n",
    "    titel\n",
    "  }\n",
    "}\n",
    "\"\"\")\n",
    "q1 = ast1.definitions[0].selections[0]\n",
    "print(q1)"
   ]
  },
  {
   "cell_type": "raw",
   "metadata": {},
   "source": [
    "<Field: name=kunde, arguments=[<Argument: name=kid, value=10001>], \n",
    "    selections=[\n",
    "        <Field: name=name>, \n",
    "        <Field: name=titel>\n",
    "    ]\n",
    ">"
   ]
  },
  {
   "cell_type": "code",
   "execution_count": null,
   "metadata": {},
   "outputs": [],
   "source": [
    "ast2 = parser.parse(\"\"\"\n",
    "query {\n",
    "  kunde(kid: \"10001\") {\n",
    "    name\n",
    "    bestellung {\n",
    "      bestelldatum\n",
    "      gesamtpreis\n",
    "    }\n",
    "  }\n",
    "}\n",
    "\"\"\")\n",
    "q2 = ast2.definitions[0].selections[0]\n",
    "print(q2)"
   ]
  },
  {
   "cell_type": "raw",
   "metadata": {},
   "source": [
    "<Field: name=kunde, arguments=[<Argument: name=kid, value=10001>], \n",
    "    selections=[\n",
    "        <Field: name=name>, \n",
    "        <Field: name=bestellung, \n",
    "            selections=[\n",
    "                <Field: name=bestelldatum>, \n",
    "                <Field: name=gesamtpreis>\n",
    "            ]\n",
    "        >\n",
    "    ]\n",
    ">"
   ]
  },
  {
   "cell_type": "code",
   "execution_count": null,
   "metadata": {},
   "outputs": [],
   "source": [
    "ast3 = parser.parse(\"\"\"\n",
    "query {\n",
    "  kunde(kid: \"10001\") {\n",
    "    name\n",
    "    bestellung (bestelldatum: \"2019-01-31\") {\n",
    "      bestelldatum\n",
    "      gesamtpreis\n",
    "    }\n",
    "  }\n",
    "}\n",
    "\"\"\")\n",
    "q3 = ast3.definitions[0].selections[0]\n",
    "print(q3)"
   ]
  },
  {
   "cell_type": "raw",
   "metadata": {},
   "source": [
    "<Field: name=kunde, arguments=[<Argument: name=kid, value=10001>], \n",
    "    selections=[\n",
    "        <Field: name=name>, \n",
    "        <Field: name=bestellung, arguments=[<Argument: name=bestelldatum, value=2019-01-31>], \n",
    "            selections=[\n",
    "                <Field: name=bestelldatum>, \n",
    "                <Field: name=gesamtpreis>\n",
    "            ]\n",
    "        >\n",
    "    ]\n",
    ">"
   ]
  },
  {
   "cell_type": "code",
   "execution_count": null,
   "metadata": {},
   "outputs": [],
   "source": [
    "ast4 = parser.parse(\"\"\"\n",
    "query {\n",
    "  kunde(kid: \"10001\") {\n",
    "    name\n",
    "    bestellung {\n",
    "      produkte {\n",
    "          bez\n",
    "          laenge\n",
    "      }\n",
    "      bestelldatum\n",
    "      gesamtpreis\n",
    "    }\n",
    "  }\n",
    "}\n",
    "\"\"\")\n",
    "q4 = ast4.definitions[0].selections[0]\n",
    "print(q4)"
   ]
  },
  {
   "cell_type": "raw",
   "metadata": {},
   "source": [
    "<Field: name=kunde, arguments=[<Argument: name=kid, value=10001>], \n",
    "    selections=[\n",
    "        <Field: name=name>, \n",
    "        <Field: name=bestellung, \n",
    "            selections=[\n",
    "                <Field: name=produkte, \n",
    "                    selections=[\n",
    "                        <Field: name=bez>, \n",
    "                        <Field: name=laenge>\n",
    "                    ]\n",
    "                >, \n",
    "                <Field: name=bestelldatum>, \n",
    "                <Field: name=gesamtpreis>\n",
    "            ]\n",
    "        >\n",
    "    ]\n",
    ">"
   ]
  }
 ],
 "metadata": {
  "kernelspec": {
   "display_name": "Python 3.9.13 ('work')",
   "language": "python",
   "name": "python3"
  },
  "language_info": {
   "codemirror_mode": {
    "name": "ipython",
    "version": 3
   },
   "file_extension": ".py",
   "mimetype": "text/x-python",
   "name": "python",
   "nbconvert_exporter": "python",
   "pygments_lexer": "ipython3",
   "version": "3.10.9"
  },
  "orig_nbformat": 4,
  "vscode": {
   "interpreter": {
    "hash": "2d6fa041adfecd6e27df7d45c6447a3fc1437381c85a5efcc15b960708d9d702"
   }
  }
 },
 "nbformat": 4,
 "nbformat_minor": 2
}
