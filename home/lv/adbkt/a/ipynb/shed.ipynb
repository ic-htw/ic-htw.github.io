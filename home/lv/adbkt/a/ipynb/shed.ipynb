{
 "cells": [
  {
   "cell_type": "markdown",
   "metadata": {
    "id": "pxBJnkCLF-D9"
   },
   "source": [
    "## Import / Config"
   ]
  },
  {
   "cell_type": "code",
   "execution_count": null,
   "metadata": {
    "id": "zOiYLJKIF-D_"
   },
   "outputs": [],
   "source": [
    "import pandas as pd\n",
    "from sqlalchemy import create_engine, text\n",
    "from neo4j import GraphDatabase\n",
    "from sqlalchemy import text\n",
    "from dotenv import dotenv_values\n",
    "\n",
    "c_pg = dotenv_values(\"cred-pg.txt\")\n",
    "c_neo4j = dotenv_values(\"cred-neo4j.txt\")"
   ]
  },
  {
   "cell_type": "markdown",
   "metadata": {
    "id": "iBrddgrAF-EC"
   },
   "source": [
    "## Engine"
   ]
  },
  {
   "cell_type": "code",
   "execution_count": null,
   "metadata": {
    "id": "PKldKjuiF-EF"
   },
   "outputs": [],
   "source": [
    "engine = create_engine(\n",
    "    f'postgresql+psycopg://{c_pg[\"user\"]}:{c_pg[\"password\"]}@{c_pg[\"host\"]}/{c_pg[\"dbname\"]}', \n",
    "    connect_args = {\n",
    "        'options': '-c search_path=${user},ugeobln,ugm,uinsta,umisc,umobility,usozmed,public', \n",
    "        'keepalives_idle': 120\n",
    "    },\n",
    "    pool_size=1, \n",
    "    max_overflow=0,\n",
    "    execution_options={ 'isolation_level': 'AUTOCOMMIT' }\n",
    ")"
   ]
  },
  {
   "cell_type": "markdown",
   "metadata": {
    "id": "-xWpZ5ISF-EF"
   },
   "source": [
    "## Code"
   ]
  },
  {
   "cell_type": "code",
   "execution_count": null,
   "metadata": {
    "id": "6ePxvEimF-EG"
   },
   "outputs": [],
   "source": []
  },
  {
   "cell_type": "markdown",
   "metadata": {
    "id": "teFkAhNlF-EH"
   },
   "source": [
    "## Ausführung"
   ]
  },
  {
   "cell_type": "markdown",
   "metadata": {},
   "source": [
    "### Eberbacher Str. 1 nach Meierottostraße 10"
   ]
  },
  {
   "cell_type": "code",
   "execution_count": null,
   "metadata": {
    "id": "0VTp5rmkF-EI"
   },
   "outputs": [],
   "source": [
    "fahrverbindung([52.473176, 13.313740], [52.4969134,13.327166], \"2021-04-01\",\"11:00:00\")"
   ]
  },
  {
   "cell_type": "markdown",
   "metadata": {},
   "source": [
    "### Eberbacher Str. 1 nach Ballenstedter Str. 6"
   ]
  },
  {
   "cell_type": "code",
   "execution_count": null,
   "metadata": {},
   "outputs": [],
   "source": [
    "fahrverbindung([52.473176, 13.313740], [52.494833,13.3038814], \"2021-04-01\",\"11:00:00\")"
   ]
  },
  {
   "cell_type": "markdown",
   "metadata": {},
   "source": []
  },
  {
   "cell_type": "markdown",
   "metadata": {},
   "source": [
    "### Eberbacher Str. 1 nach Elsastraße 2"
   ]
  },
  {
   "cell_type": "code",
   "execution_count": null,
   "metadata": {},
   "outputs": [],
   "source": [
    "fahrverbindung([52.473176, 13.313740], [52.4752505,13.3308319], \"2021-04-01\",\"11:00:00\")"
   ]
  }
 ],
 "metadata": {
  "colab": {
   "collapsed_sections": [],
   "name": "geo.ipynb",
   "provenance": [
    {
     "file_id": "1jr4U_2zk8cMRw1Q7-eBGxvo1TMCse-En",
     "timestamp": 1647340194270
    },
    {
     "file_id": "1t3N8KcE1ggy-TAJSplTKHvu08o4PyUr0",
     "timestamp": 1647339680510
    }
   ]
  },
  "kernelspec": {
   "display_name": "Python 3 (ipykernel)",
   "language": "python",
   "name": "python3"
  },
  "language_info": {
   "codemirror_mode": {
    "name": "ipython",
    "version": 3
   },
   "file_extension": ".py",
   "mimetype": "text/x-python",
   "name": "python",
   "nbconvert_exporter": "python",
   "pygments_lexer": "ipython3",
   "version": "3.12.8"
  },
  "vscode": {
   "interpreter": {
    "hash": "2d6fa041adfecd6e27df7d45c6447a3fc1437381c85a5efcc15b960708d9d702"
   }
  }
 },
 "nbformat": 4,
 "nbformat_minor": 4
}
