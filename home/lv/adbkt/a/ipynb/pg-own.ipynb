{
 "cells": [
  {
   "cell_type": "code",
   "execution_count": 5,
   "id": "fdf26624-57ce-4696-a0b6-c838b7f3ccd0",
   "metadata": {},
   "outputs": [],
   "source": [
    "# !uv pip install -U psycopg[binary,pool] pandas dotenv"
   ]
  },
  {
   "cell_type": "code",
   "execution_count": 6,
   "id": "e450f088-9d36-4dfe-bb4b-bce4346ce995",
   "metadata": {},
   "outputs": [],
   "source": [
    "import psycopg\n",
    "\n",
    "from dotenv import dotenv_values\n",
    "conninfo = \" \".join([f'{c[0]}={c[1]}' for c in dotenv_values(\"cred-pg1.txt\").items()])"
   ]
  },
  {
   "cell_type": "code",
   "execution_count": 7,
   "id": "66542395-86c3-4388-becb-d353825eabd6",
   "metadata": {},
   "outputs": [],
   "source": [
    "def create_kv(conninfo):\n",
    "    sql1 = \"drop table if exists kv\"\n",
    "    sql2 = \"\"\" \n",
    "    create table kv (\n",
    "      k integer not null,\n",
    "      v varchar not null\n",
    "    )\n",
    "    \"\"\"\n",
    "    sql3 = \"insert into kv values (1, 'hallo'), (2, 'hi')\"\n",
    "    with psycopg.connect(conninfo) as conn:\n",
    "        conn.execute(sql1) \n",
    "        conn.execute(sql2) \n",
    "        conn.execute(sql3) \n",
    "\n",
    "def clear_kv(conninfo):\n",
    "    sql1 = \"delete from kv\"\n",
    "    with psycopg.connect(conninfo) as conn:\n",
    "        conn.execute(sql1) \n"
   ]
  },
  {
   "cell_type": "code",
   "execution_count": 8,
   "id": "808cb5c2-ed31-4147-8261-0a5e3e262304",
   "metadata": {},
   "outputs": [],
   "source": [
    "create_kv(conninfo)"
   ]
  },
  {
   "cell_type": "code",
   "execution_count": 9,
   "id": "028fbeda-5122-441d-b71a-3ed6fcbae5b7",
   "metadata": {},
   "outputs": [
    {
     "name": "stdout",
     "output_type": "stream",
     "text": [
      "[(1, 'hallo'), (2, 'hi')]\n"
     ]
    }
   ],
   "source": [
    "sql = \"select * from kv\"\n",
    "with psycopg.connect(conninfo) as conn:\n",
    "    rs = conn.execute(sql).fetchall()\n",
    "\n",
    "print(rs)"
   ]
  }
 ],
 "metadata": {
  "kernelspec": {
   "display_name": "Python 3 (ipykernel)",
   "language": "python",
   "name": "python3"
  },
  "language_info": {
   "codemirror_mode": {
    "name": "ipython",
    "version": 3
   },
   "file_extension": ".py",
   "mimetype": "text/x-python",
   "name": "python",
   "nbconvert_exporter": "python",
   "pygments_lexer": "ipython3",
   "version": "3.12.8"
  }
 },
 "nbformat": 4,
 "nbformat_minor": 5
}
