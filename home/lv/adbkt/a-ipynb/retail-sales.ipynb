{
 "cells": [
  {
   "cell_type": "markdown",
   "metadata": {},
   "source": [
    "### Import / Config"
   ]
  },
  {
   "cell_type": "code",
   "execution_count": null,
   "metadata": {},
   "outputs": [],
   "source": [
    "import pandas as pd\n",
    "from sqlalchemy import create_engine, text\n",
    "from dotenv import dotenv_values\n",
    "\n",
    "c_pg = dotenv_values(\"cred-pg.txt\")\n",
    "\n",
    "# None = unbegrenzt\n",
    "pd.set_option(\"display.max_rows\", 50)\n",
    "pd.set_option(\"display.max_columns\", None)\n"
   ]
  },
  {
   "cell_type": "code",
   "execution_count": null,
   "metadata": {},
   "outputs": [],
   "source": [
    "engine = create_engine(\n",
    "    f'postgresql+psycopg://{c_pg[\"user\"]}:{c_pg[\"password\"]}@{c_pg[\"host\"]}/{c_pg[\"dbname\"]}', \n",
    "    connect_args = {\n",
    "        'options': '-c search_path=${user},ugeobln,ugm,uinsta,umisc,umobility,usozmed,public', \n",
    "        'keepalives_idle': 120\n",
    "    },\n",
    "    pool_size=1, \n",
    "    max_overflow=0,\n",
    "    execution_options={ 'isolation_level': 'AUTOCOMMIT' }\n",
    ")"
   ]
  },
  {
   "cell_type": "markdown",
   "metadata": {},
   "source": [
    "### Basis"
   ]
  },
  {
   "cell_type": "code",
   "execution_count": null,
   "metadata": {},
   "outputs": [],
   "source": [
    "sql = \"\"\"\n",
    "SELECT sales_month, kind_of_business, sales\n",
    "FROM retail_sales\n",
    "ORDER BY 1\n",
    ";\n",
    "\"\"\"\n",
    "with engine.connect() as con:\n",
    "    df = pd.read_sql_query(text(sql), con)\n",
    "df"
   ]
  },
  {
   "cell_type": "code",
   "execution_count": null,
   "metadata": {},
   "outputs": [],
   "source": [
    "sql = \"\"\"\n",
    "select kind_of_business, count(*) as anz\n",
    "FROM retail_sales\n",
    "group by 1\n",
    "ORDER BY 1\n",
    ";\n",
    "\"\"\"\n",
    "with engine.connect() as con:\n",
    "    df = pd.read_sql_query(text(sql), con)\n",
    "df "
   ]
  },
  {
   "cell_type": "markdown",
   "metadata": {},
   "source": [
    "### Mit Lösung"
   ]
  },
  {
   "cell_type": "markdown",
   "metadata": {},
   "source": [
    "#### 1"
   ]
  },
  {
   "cell_type": "code",
   "execution_count": null,
   "metadata": {},
   "outputs": [],
   "source": [
    "sql = \"\"\"\n",
    "select sales_month, sales\n",
    "from retail_sales\n",
    "where kind_of_business = 'Retail and food services sales, total'\n",
    "order by sales_month\n",
    "\"\"\"\n",
    "with engine.connect() as con:\n",
    "    df = pd.read_sql_query(text(sql), con)\n",
    "# df"
   ]
  },
  {
   "cell_type": "code",
   "execution_count": null,
   "metadata": {},
   "outputs": [],
   "source": [
    "df.set_index('sales_month').plot(\n",
    "    figsize=(10,6),\n",
    "    ylabel=\"Dollar (million)\", \n",
    "    legend=True\n",
    ")"
   ]
  },
  {
   "cell_type": "markdown",
   "metadata": {},
   "source": [
    "#### 2"
   ]
  },
  {
   "cell_type": "code",
   "execution_count": null,
   "metadata": {},
   "outputs": [],
   "source": [
    "sql = \"\"\"\n",
    "select date_part('year',sales_month) as sales_year, sum(sales) as sales\n",
    "from retail_sales\n",
    "where kind_of_business = 'Retail and food services sales, total'\n",
    "group by 1\n",
    "order by 1\n",
    "\"\"\"\n",
    "with engine.connect() as con:\n",
    "    df = pd.read_sql_query(text(sql), con)\n",
    "# df"
   ]
  },
  {
   "cell_type": "code",
   "execution_count": null,
   "metadata": {},
   "outputs": [],
   "source": [
    "df.set_index('sales_year').plot(\n",
    "    figsize=(10,6),\n",
    "    ylabel=\"Dollar (million)\", \n",
    "    legend=True\n",
    ")"
   ]
  },
  {
   "cell_type": "markdown",
   "metadata": {},
   "source": [
    "#### 3"
   ]
  },
  {
   "cell_type": "code",
   "execution_count": null,
   "metadata": {},
   "outputs": [],
   "source": [
    "sql = \"\"\"\n",
    "select \n",
    "  date_part('year',sales_month) as sales_year,\n",
    "  kind_of_business,\n",
    "  sum(sales) as sales\n",
    "from retail_sales\n",
    "where kind_of_business in ('Book stores','Sporting goods stores','Hobby, toy, and game stores')\n",
    "group by 1,2\n",
    "order by 1,2\n",
    "\"\"\"\n",
    "with engine.connect() as con:\n",
    "    df = pd.read_sql_query(text(sql), con)\n",
    "# df"
   ]
  },
  {
   "cell_type": "code",
   "execution_count": null,
   "metadata": {},
   "outputs": [],
   "source": [
    "df.pivot(index='sales_year', columns='kind_of_business', values='sales').plot(\n",
    "    figsize=(10,6),\n",
    "    ylabel=\"sales, Dollar (million)\"\n",
    ")"
   ]
  },
  {
   "cell_type": "markdown",
   "metadata": {},
   "source": [
    "#### 4"
   ]
  },
  {
   "cell_type": "code",
   "execution_count": null,
   "metadata": {},
   "outputs": [],
   "source": [
    "sql = \"\"\"\n",
    "select \n",
    "  cast(date_part('year',sales_month) as integer) as sales_year,\n",
    "  kind_of_business,\n",
    "  sum(sales) as sales\n",
    "from retail_sales\n",
    "where kind_of_business in ('Men''s clothing stores','Women''s clothing stores')\n",
    "group by 1,2\n",
    "order by 1\n",
    "\"\"\"\n",
    "with engine.connect() as con:\n",
    "    df = pd.read_sql_query(text(sql), con)\n",
    "# df"
   ]
  },
  {
   "cell_type": "code",
   "execution_count": null,
   "metadata": {},
   "outputs": [],
   "source": [
    "df.pivot(index='sales_year', columns='kind_of_business', values='sales').plot.bar(\n",
    "    figsize=(10,6),\n",
    "    ylabel=\"sales, Dollar (million)\", \n",
    ")"
   ]
  },
  {
   "cell_type": "markdown",
   "metadata": {},
   "source": [
    "### Ohne Lösung"
   ]
  },
  {
   "cell_type": "markdown",
   "metadata": {},
   "source": [
    "#### 5"
   ]
  },
  {
   "cell_type": "code",
   "execution_count": null,
   "metadata": {},
   "outputs": [],
   "source": [
    "sql = \"\"\"\n",
    "select 'dummy' as dummy\n",
    "\"\"\"\n",
    "with engine.connect() as con:\n",
    "    df = pd.read_sql_query(text(sql), con)\n",
    "# df"
   ]
  },
  {
   "cell_type": "code",
   "execution_count": null,
   "metadata": {},
   "outputs": [],
   "source": [
    "# Visualization"
   ]
  },
  {
   "cell_type": "markdown",
   "metadata": {},
   "source": [
    "#### 6"
   ]
  },
  {
   "cell_type": "code",
   "execution_count": null,
   "metadata": {},
   "outputs": [],
   "source": [
    "sql = \"\"\"\n",
    "select 'dummy' as dummy\n",
    "\"\"\"\n",
    "with engine.connect() as con:\n",
    "    df = pd.read_sql_query(text(sql), con)\n",
    "# df"
   ]
  },
  {
   "cell_type": "code",
   "execution_count": null,
   "metadata": {},
   "outputs": [],
   "source": [
    "# Visualization"
   ]
  },
  {
   "cell_type": "markdown",
   "metadata": {},
   "source": [
    "#### 7"
   ]
  },
  {
   "cell_type": "code",
   "execution_count": null,
   "metadata": {},
   "outputs": [],
   "source": [
    "sql = \"\"\"\n",
    "select 'dummy' as dummy\n",
    "\"\"\"\n",
    "with engine.connect() as con:\n",
    "    df = pd.read_sql_query(text(sql), con)\n",
    "df"
   ]
  },
  {
   "cell_type": "code",
   "execution_count": null,
   "metadata": {},
   "outputs": [],
   "source": [
    "# Visualization"
   ]
  },
  {
   "cell_type": "markdown",
   "metadata": {},
   "source": [
    "#### 8"
   ]
  },
  {
   "cell_type": "code",
   "execution_count": null,
   "metadata": {},
   "outputs": [],
   "source": [
    "sql = \"\"\"\n",
    "select 'dummy' as dummy\n",
    "\"\"\"\n",
    "with engine.connect() as con:\n",
    "    df = pd.read_sql_query(text(sql), con)\n",
    "df"
   ]
  },
  {
   "cell_type": "code",
   "execution_count": null,
   "metadata": {},
   "outputs": [],
   "source": [
    "# Visualization"
   ]
  },
  {
   "cell_type": "markdown",
   "metadata": {},
   "source": [
    "#### 9"
   ]
  },
  {
   "cell_type": "code",
   "execution_count": null,
   "metadata": {},
   "outputs": [],
   "source": [
    "sql = \"\"\"\n",
    "select 'dummy' as dummy\n",
    "\"\"\"\n",
    "with engine.connect() as con:\n",
    "    df = pd.read_sql_query(text(sql), con)\n",
    "df"
   ]
  },
  {
   "cell_type": "code",
   "execution_count": null,
   "metadata": {},
   "outputs": [],
   "source": [
    "# Visualization"
   ]
  },
  {
   "cell_type": "markdown",
   "metadata": {},
   "source": [
    "#### 10"
   ]
  },
  {
   "cell_type": "code",
   "execution_count": null,
   "metadata": {},
   "outputs": [],
   "source": [
    "sql = \"\"\"\n",
    "select 'dummy' as dummy\n",
    "\"\"\"\n",
    "with engine.connect() as con:\n",
    "    df = pd.read_sql_query(text(sql), con)\n",
    "df"
   ]
  },
  {
   "cell_type": "code",
   "execution_count": null,
   "metadata": {},
   "outputs": [],
   "source": [
    "# Visualization"
   ]
  },
  {
   "cell_type": "markdown",
   "metadata": {},
   "source": [
    "#### 11"
   ]
  },
  {
   "cell_type": "code",
   "execution_count": null,
   "metadata": {},
   "outputs": [],
   "source": [
    "sql = \"\"\"\n",
    "select 'dummy' as dummy\n",
    "\"\"\"\n",
    "with engine.connect() as con:\n",
    "    df = pd.read_sql_query(text(sql), con)\n",
    "df"
   ]
  },
  {
   "cell_type": "code",
   "execution_count": null,
   "metadata": {},
   "outputs": [],
   "source": [
    "# Visualization"
   ]
  },
  {
   "cell_type": "markdown",
   "metadata": {},
   "source": [
    "#### 12"
   ]
  },
  {
   "cell_type": "code",
   "execution_count": null,
   "metadata": {},
   "outputs": [],
   "source": [
    "sql = \"\"\"\n",
    "select 'dummy' as dummy\n",
    "\"\"\"\n",
    "with engine.connect() as con:\n",
    "    df = pd.read_sql_query(text(sql), con)\n",
    "df"
   ]
  },
  {
   "cell_type": "code",
   "execution_count": null,
   "metadata": {},
   "outputs": [],
   "source": [
    "# Visualization"
   ]
  },
  {
   "cell_type": "markdown",
   "metadata": {},
   "source": [
    "#### 13"
   ]
  },
  {
   "cell_type": "code",
   "execution_count": null,
   "metadata": {},
   "outputs": [],
   "source": [
    "sql = \"\"\"\n",
    "select 'dummy' as dummy\n",
    "\"\"\"\n",
    "with engine.connect() as con:\n",
    "    df = pd.read_sql_query(text(sql), con)\n",
    "df"
   ]
  }
 ],
 "metadata": {
  "kernelspec": {
   "display_name": "Python 3 (ipykernel)",
   "language": "python",
   "name": "python3"
  },
  "language_info": {
   "codemirror_mode": {
    "name": "ipython",
    "version": 3
   },
   "file_extension": ".py",
   "mimetype": "text/x-python",
   "name": "python",
   "nbconvert_exporter": "python",
   "pygments_lexer": "ipython3",
   "version": "3.12.8"
  },
  "vscode": {
   "interpreter": {
    "hash": "2d6fa041adfecd6e27df7d45c6447a3fc1437381c85a5efcc15b960708d9d702"
   }
  }
 },
 "nbformat": 4,
 "nbformat_minor": 4
}
