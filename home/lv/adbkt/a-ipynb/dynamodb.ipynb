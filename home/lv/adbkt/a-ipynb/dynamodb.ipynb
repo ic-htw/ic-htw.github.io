{
 "cells": [
  {
   "cell_type": "code",
   "execution_count": 1,
   "metadata": {},
   "outputs": [],
   "source": [
    "import boto3\n",
    "from botocore.exceptions import ClientError\n",
    "\n",
    "ERROR_HELP_STRINGS = {\n",
    "    # Common Errors\n",
    "    'InternalServerError': 'Internal Server Error, generally safe to retry with exponential back-off',\n",
    "    'ProvisionedThroughputExceededException': 'Request rate is too high. If you\\'re using a custom retry strategy make sure to retry with exponential back-off.' +\n",
    "                                              'Otherwise consider reducing frequency of requests or increasing provisioned capacity for your table or secondary index',\n",
    "    'ResourceNotFoundException': 'One of the tables was not found, verify table exists before retrying',\n",
    "    'ServiceUnavailable': 'Had trouble reaching DynamoDB. generally safe to retry with exponential back-off',\n",
    "    'ThrottlingException': 'Request denied due to throttling, generally safe to retry with exponential back-off',\n",
    "    'UnrecognizedClientException': 'The request signature is incorrect most likely due to an invalid AWS access key ID or secret key, fix before retrying',\n",
    "    'ValidationException': 'The input fails to satisfy the constraints specified by DynamoDB, fix input before retrying',\n",
    "    'RequestLimitExceeded': 'Throughput exceeds the current throughput limit for your account, increase account level throughput before retrying',\n",
    "}\n"
   ]
  },
  {
   "cell_type": "code",
   "execution_count": 5,
   "metadata": {},
   "outputs": [
    {
     "name": "stdout",
     "output_type": "stream",
     "text": [
      "{'Items': [{'SK': {'S': 'c#12345'}, 'EntityType': {'S': 'customer'}, 'PK': {'S': 'c#12345'}, 'Email': {'S': 'samaneh@example.com'}, 'Name': {'S': 'Samaneh'}}], 'Count': 1, 'ScannedCount': 1, 'ResponseMetadata': {'RequestId': '2f55df50-eae4-48e4-afae-2da5ff2e36a4', 'HTTPStatusCode': 200, 'HTTPHeaders': {'date': 'Mon, 15 Apr 2024 09:03:00 GMT', 'x-amzn-requestid': '2f55df50-eae4-48e4-afae-2da5ff2e36a4', 'content-type': 'application/x-amz-json-1.0', 'x-amz-crc32': '2101062283', 'content-length': '171', 'server': 'Jetty(11.0.17)'}, 'RetryAttempts': 0}}\n"
     ]
    }
   ],
   "source": [
    "def create_dynamodb_client():\n",
    "    return boto3.client(\n",
    "        \"dynamodb\", \n",
    "        region_name=\"localhost\", \n",
    "        endpoint_url=\"http://localhost:8000\", \n",
    "        aws_access_key_id=\"vrolr\", \n",
    "        aws_secret_access_key=\"l36sz\"\n",
    "        )\n",
    "\n",
    "def create_query_input():\n",
    "    return {\n",
    "        \"TableName\": \"OnlineShop\",\n",
    "        \"KeyConditionExpression\": \"#cd420 = :cd420 And #cd421 = :cd421\",\n",
    "        \"ExpressionAttributeNames\": {\"#cd420\":\"PK\",\"#cd421\":\"SK\"},\n",
    "        \"ExpressionAttributeValues\": {\":cd420\": {\"S\":\"c#12345\"},\":cd421\": {\"S\":\"c#12345\"}}\n",
    "    }\n",
    "\n",
    "\n",
    "def execute_query(dynamodb_client, input):\n",
    "    try:\n",
    "        response = dynamodb_client.query(**input)\n",
    "        print(response)\n",
    "        # Handle response\n",
    "    except ClientError as error:\n",
    "        handle_error(error)\n",
    "    except BaseException as error:\n",
    "        print(\"Unknown error while querying: \" + error.response['Error']['Message'])\n",
    "\n",
    "\n",
    "def handle_error(error):\n",
    "    error_code = error.response['Error']['Code']\n",
    "    error_message = error.response['Error']['Message']\n",
    "\n",
    "    error_help_string = ERROR_HELP_STRINGS[error_code]\n",
    "\n",
    "    print('[{error_code}] {help_string}. Error message: {error_message}'\n",
    "          .format(error_code=error_code,\n",
    "                  help_string=error_help_string,\n",
    "                  error_message=error_message))\n",
    "\n",
    "\n",
    "def main():\n",
    "    # Create the DynamoDB Client with the region you want\n",
    "    dynamodb_client = create_dynamodb_client()\n",
    "\n",
    "    # Create the dictionary containing arguments for query call\n",
    "    query_input = create_query_input()\n",
    "\n",
    "    # Call DynamoDB's query API\n",
    "    execute_query(dynamodb_client, query_input)\n",
    "\n",
    "\n",
    "if __name__ == \"__main__\":\n",
    "    main()\n",
    "    "
   ]
  }
 ],
 "metadata": {
  "kernelspec": {
   "display_name": "base",
   "language": "python",
   "name": "python3"
  },
  "language_info": {
   "codemirror_mode": {
    "name": "ipython",
    "version": 3
   },
   "file_extension": ".py",
   "mimetype": "text/x-python",
   "name": "python",
   "nbconvert_exporter": "python",
   "pygments_lexer": "ipython3",
   "version": "3.10.10"
  }
 },
 "nbformat": 4,
 "nbformat_minor": 2
}
