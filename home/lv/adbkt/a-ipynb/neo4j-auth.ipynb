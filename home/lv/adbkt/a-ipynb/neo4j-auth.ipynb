{
 "cells": [
  {
   "cell_type": "code",
   "execution_count": null,
   "metadata": {},
   "outputs": [],
   "source": [
    "import pandas as pd\n",
    "from neo4j import GraphDatabase\n",
    "from dotenv import dotenv_values\n"
   ]
  },
  {
   "cell_type": "code",
   "execution_count": null,
   "metadata": {},
   "outputs": [],
   "source": [
    "c_neo4j = dotenv_values(\"cred-neo4j.txt\")\n",
    "neo4j_host = c_neo4j[\"neo4j_host\"]\n",
    "neo4j_auth = (c_neo4j[\"neo4j_userid\"], c_neo4j[\"neo4j_password\"])\n"
   ]
  },
  {
   "cell_type": "code",
   "execution_count": null,
   "metadata": {},
   "outputs": [],
   "source": [
    "driver = GraphDatabase.driver(neo4j_host, auth=neo4j_auth) "
   ]
  },
  {
   "cell_type": "code",
   "execution_count": null,
   "metadata": {},
   "outputs": [],
   "source": [
    "def resetDb():\n",
    "    q1 = \"\"\"\n",
    "    match (n) detach delete n\n",
    "    \"\"\"\n",
    "    \n",
    "    q2 = \"\"\"\n",
    "    create \n",
    "      // ----------------------------------------\n",
    "      // Admins, Gruppen, Gruppenstruktur\n",
    "      // ----------------------------------------\n",
    "      (a1:Admin {name: 'a1'}),\n",
    "      (a2:Admin {name: 'a2'}),\n",
    "      (g1:Gruppe {name: 'g1'}),\n",
    "      (g2:Gruppe {name: 'g2'}),\n",
    "      (g3:Gruppe {name: 'g3'}),\n",
    "      (a1)-[:ING]->(g1),\n",
    "      (a1)-[:ING]->(g3),\n",
    "      (a2)-[:ING]->(g2),\n",
    "      (a2)-[:ING]->(g3),\n",
    "      // ----------------------------------------\n",
    "      // Unternehmen, Unternehmenstrutur\n",
    "      // ----------------------------------------\n",
    "      (u1:Unternehmen {name: 'u1'}),\n",
    "      (u11:Unternehmen {name: 'u11'}),\n",
    "      (u111:Unternehmen {name: 'u111'}),\n",
    "      (u112:Unternehmen {name: 'u112'}),\n",
    "      (u1111:Unternehmen {name: 'u1111'}),\n",
    "      (u1112:Unternehmen {name: 'u1112'}),\n",
    "      (u12:Unternehmen {name: 'u12'}),\n",
    "      (u121:Unternehmen {name: 'u121'}),\n",
    "      (u122:Unternehmen {name: 'u122'}),\n",
    "      (u11)-[:SUB]->(u1),\n",
    "      (u12)-[:SUB]->(u1),\n",
    "      (u111)-[:SUB]->(u11),\n",
    "      (u1111)-[:SUB]->(u111),\n",
    "      (u1112)-[:SUB]->(u111),\n",
    "      (u112)-[:SUB]->(u11),\n",
    "      (u121)-[:SUB]->(u12),\n",
    "      (u122)-[:SUB]->(u12)\n",
    "    \"\"\"\n",
    "\n",
    "    with driver.session() as session:\n",
    "        session.run(q1)\n",
    "        session.run(q2)\n",
    "        \n",
    "def setAuth(gruppe, unternehmen, auth):\n",
    "    pass\n",
    "      \n",
    "def unsetAuth(gruppe, unternehmen, auth):\n",
    "    pass\n",
    "          \n",
    "def showAuth():\n",
    "     pass\n",
    "    "
   ]
  },
  {
   "cell_type": "code",
   "execution_count": null,
   "metadata": {},
   "outputs": [],
   "source": [
    "resetDb()"
   ]
  },
  {
   "cell_type": "code",
   "execution_count": null,
   "metadata": {},
   "outputs": [],
   "source": [
    "# Beispiel 1\n",
    "setAuth(\"g3\", \"u1\", \"AI\")\n",
    "# unsetAuth(\"g3\", \"u1\", \"AI\")\n",
    "showAuth()"
   ]
  },
  {
   "cell_type": "code",
   "execution_count": null,
   "metadata": {},
   "outputs": [],
   "source": [
    "# Beispiel 2\n",
    "setAuth(\"g1\", \"u12\", \"DI\")\n",
    "setAuth(\"g2\", \"u11\", \"DI\")\n",
    "# unsetAuth(\"g1\", \"u12\", \"DI\")\n",
    "# unsetAuth(\"g2\", \"u11\", \"DI\")\n",
    "showAuth()"
   ]
  },
  {
   "cell_type": "code",
   "execution_count": null,
   "metadata": {},
   "outputs": [],
   "source": [
    "# Beispiel 3\n",
    "setAuth(\"g1\", \"u111\", \"DI\")\n",
    "# unsetAuth(\"g1\", \"u111\", \"DI\")\n",
    "showAuth()"
   ]
  },
  {
   "cell_type": "code",
   "execution_count": null,
   "metadata": {},
   "outputs": [],
   "source": [
    "# Beispiel 4\n",
    "setAuth(\"g1\", \"u1111\", \"A\")\n",
    "# unsetAuth(\"g1\", \"u1111\", \"A\")\n",
    "showAuth()"
   ]
  },
  {
   "cell_type": "code",
   "execution_count": null,
   "metadata": {},
   "outputs": [],
   "source": [
    "# Beispiel 5\n",
    "setAuth(\"g2\", \"u12\", \"D\")\n",
    "# unsetAuth(\"g2\", \"u12\", \"D\")\n",
    "showAuth()"
   ]
  },
  {
   "cell_type": "code",
   "execution_count": null,
   "metadata": {},
   "outputs": [],
   "source": [
    "# Beispiel 6\n",
    "setAuth(\"g3\", \"u1\", \"D\")\n",
    "# unsetAuth(\"g3\", \"u1\", \"D\")\n",
    "showAuth()"
   ]
  }
 ],
 "metadata": {
  "kernelspec": {
   "display_name": "Python 3 (ipykernel)",
   "language": "python",
   "name": "python3"
  },
  "language_info": {
   "codemirror_mode": {
    "name": "ipython",
    "version": 3
   },
   "file_extension": ".py",
   "mimetype": "text/x-python",
   "name": "python",
   "nbconvert_exporter": "python",
   "pygments_lexer": "ipython3",
   "version": "3.12.8"
  }
 },
 "nbformat": 4,
 "nbformat_minor": 4
}
