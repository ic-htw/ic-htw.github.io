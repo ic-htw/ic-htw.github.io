{
 "cells": [
  {
   "cell_type": "markdown",
   "metadata": {},
   "source": [
    "# Import / Config"
   ]
  },
  {
   "cell_type": "code",
   "execution_count": 1,
   "metadata": {},
   "outputs": [
    {
     "name": "stdout",
     "output_type": "stream",
     "text": [
      "\u001b[2mUsing Python 3.12.8 environment at: .py312\u001b[0m\n",
      "\u001b[2K\u001b[2mResolved \u001b[1m14 packages\u001b[0m \u001b[2min 90ms\u001b[0m\u001b[0m                                         \u001b[0m\n",
      "\u001b[2mAudited \u001b[1m14 packages\u001b[0m \u001b[2min 0.06ms\u001b[0m\u001b[0m\n"
     ]
    }
   ],
   "source": [
    "!uv pip install -U psycopg[binary,pool] sqlalchemy pandas dotenv"
   ]
  },
  {
   "cell_type": "code",
   "execution_count": 25,
   "metadata": {},
   "outputs": [],
   "source": [
    "import pandas as pd\n",
    "import json\n",
    "from dataclasses import dataclass\n",
    "from typing import List, Optional\n",
    "from sqlalchemy import create_engine, text\n",
    "from dotenv import dotenv_values\n",
    "\n",
    "c_pg = dotenv_values(\"cred-pg.txt\")\n",
    "\n",
    "# None = unbegrenzt\n",
    "pd.set_option(\"display.max_rows\", 50)\n",
    "pd.set_option(\"display.max_columns\", None)\n",
    "\n",
    "dummy_json = json.loads('[ { \"dummy\": \"bisher nicht implemenietiert\" } ]')"
   ]
  },
  {
   "cell_type": "code",
   "execution_count": 3,
   "metadata": {},
   "outputs": [],
   "source": [
    "engine = create_engine(\n",
    "    f'postgresql+psycopg://{c_pg[\"user\"]}:{c_pg[\"password\"]}@{c_pg[\"host\"]}/{c_pg[\"dbname\"]}', \n",
    "    connect_args = {\n",
    "        'options': '-c search_path=ucla', \n",
    "        'keepalives_idle': 120\n",
    "    },\n",
    "    pool_size=1, \n",
    "    max_overflow=0,\n",
    "    execution_options={ 'isolation_level': 'AUTOCOMMIT' }\n",
    ")"
   ]
  },
  {
   "cell_type": "markdown",
   "metadata": {},
   "source": [
    "# Datenbank"
   ]
  },
  {
   "cell_type": "markdown",
   "metadata": {},
   "source": [
    "## drop_tables"
   ]
  },
  {
   "cell_type": "code",
   "execution_count": 4,
   "metadata": {},
   "outputs": [],
   "source": [
    "def drop_tables(engine):\n",
    "    sql1 = \"drop table if exists t3;\"\n",
    "    sql2 = \"drop table if exists t2;\"\n",
    "    sql3 = \"drop table if exists t1;\"\n",
    "    with engine.connect() as conn:\n",
    "        conn.execute(text(sql1))\n",
    "        conn.execute(text(sql2))\n",
    "        conn.execute(text(sql3) ) "
   ]
  },
  {
   "cell_type": "markdown",
   "metadata": {},
   "source": [
    "## create_tables"
   ]
  },
  {
   "cell_type": "code",
   "execution_count": 5,
   "metadata": {},
   "outputs": [],
   "source": [
    "def create_tables(engine):\n",
    "    sql1 = \"\"\"\n",
    "    create table t1 (\n",
    "      pk1 integer primary key,\n",
    "      a varchar,\n",
    "      b varchar\n",
    "    )\n",
    "    \"\"\"\n",
    "    sql2 = \"\"\"\n",
    "    create table t2 (\n",
    "      pk2 integer primary key,\n",
    "      c varchar,\n",
    "      d varchar,\n",
    "      fk_t2_t1 integer,\n",
    "      constraint fk_t2_t1 foreign key (fk_t2_t1) references t1\n",
    "    )\n",
    "    \"\"\"\n",
    "    sql3 = \"\"\"\n",
    "    create table t3 (\n",
    "      pk3 integer primary key,\n",
    "      e varchar,\n",
    "      f varchar,\n",
    "      fk_t3_t2 integer,\n",
    "      constraint fk_e3_e2 foreign key (fk_t3_t2) references t2\n",
    "    )\n",
    "    \"\"\"\n",
    "    with engine.connect() as conn:\n",
    "        conn.execute(text(sql1))\n",
    "        conn.execute(text(sql2)) \n",
    "        conn.execute(text(sql3))   "
   ]
  },
  {
   "cell_type": "markdown",
   "metadata": {},
   "source": [
    "## delete_data"
   ]
  },
  {
   "cell_type": "code",
   "execution_count": 6,
   "metadata": {},
   "outputs": [],
   "source": [
    "def delete_data(engine):\n",
    "    sql1 = \"delete from t3\"\n",
    "    sql2 = \"delete from t2\"\n",
    "    sql3 = \"delete from t1\"\n",
    "    with engine.connect() as conn:\n",
    "        conn.execute(text(sql1))\n",
    "        conn.execute(text(sql2))\n",
    "        conn.execute(text(sql3))    "
   ]
  },
  {
   "cell_type": "markdown",
   "metadata": {},
   "source": [
    "## insert_data"
   ]
  },
  {
   "cell_type": "code",
   "execution_count": 7,
   "metadata": {},
   "outputs": [],
   "source": [
    "def insert_data(engine):\n",
    "    sql1 = \"\"\"\n",
    "    insert into t1 values \n",
    "      (1, 'a1', 'b1'), \n",
    "      (2, 'a2', 'b2')\n",
    "    \"\"\"\n",
    "    sql2 = \"\"\"\n",
    "    insert into t2 values \n",
    "      (11, 'c11', 'd11', 1), \n",
    "      (12, 'c12', 'd12', 1),\n",
    "      (13, 'c13', 'd13', 2), \n",
    "      (14, 'c14', 'd14', 2),\n",
    "      (15, 'c15', 'd15', 2)\n",
    "    \"\"\"\n",
    "    sql3 = \"\"\"\n",
    "    insert into t3 values \n",
    "      (101, 'e101', 'f101', 11), \n",
    "      (102, 'e102', 'f102', 11),\n",
    "      (103, 'e103', 'f103', 12), \n",
    "      (104, 'e104', 'f104', 12),\n",
    "      (105, 'e105', 'f105', 13),\n",
    "      (106, 'e106', 'f106', 13),\n",
    "      (107, 'e107', 'f107', 14),\n",
    "      (108, 'e108', 'f108', 14),\n",
    "      (109, 'e109', 'f109', 15),\n",
    "      (110, 'e110', 'f110', 15)\n",
    "    \"\"\"\n",
    "    with engine.connect() as conn:\n",
    "        conn.execute(text(sql1))\n",
    "        conn.execute(text(sql2)) \n",
    "        conn.execute(text(sql3))"
   ]
  },
  {
   "cell_type": "markdown",
   "metadata": {},
   "source": [
    "## get_data"
   ]
  },
  {
   "cell_type": "code",
   "execution_count": 8,
   "metadata": {},
   "outputs": [],
   "source": [
    "def get_data(engine):\n",
    "    sql1 = \"select * from t1\"\n",
    "    sql2 = \"select * from t2\"\n",
    "    sql3 = \"select * from t3\"\n",
    "    with engine.connect() as conn:\n",
    "        df1 = pd.read_sql_query(text(sql1), conn)\n",
    "        df2 = pd.read_sql_query(text(sql2), conn)\n",
    "        df3 = pd.read_sql_query(text(sql3), conn)\n",
    "    return df1, df2, df3"
   ]
  },
  {
   "cell_type": "markdown",
   "metadata": {},
   "source": [
    "## Datenerzeugung"
   ]
  },
  {
   "cell_type": "code",
   "execution_count": 9,
   "metadata": {},
   "outputs": [],
   "source": [
    "#drop_tables(engine)\n",
    "create_tables(engine)\n",
    "# delete_data(engine)\n",
    "insert_data(engine)"
   ]
  },
  {
   "cell_type": "markdown",
   "metadata": {},
   "source": [
    "## Datenanzeige"
   ]
  },
  {
   "cell_type": "code",
   "execution_count": 10,
   "metadata": {},
   "outputs": [],
   "source": [
    "df1, df2, df3 = get_data(engine)"
   ]
  },
  {
   "cell_type": "code",
   "execution_count": 11,
   "metadata": {},
   "outputs": [
    {
     "data": {
      "text/html": [
       "<div>\n",
       "<style scoped>\n",
       "    .dataframe tbody tr th:only-of-type {\n",
       "        vertical-align: middle;\n",
       "    }\n",
       "\n",
       "    .dataframe tbody tr th {\n",
       "        vertical-align: top;\n",
       "    }\n",
       "\n",
       "    .dataframe thead th {\n",
       "        text-align: right;\n",
       "    }\n",
       "</style>\n",
       "<table border=\"1\" class=\"dataframe\">\n",
       "  <thead>\n",
       "    <tr style=\"text-align: right;\">\n",
       "      <th></th>\n",
       "      <th>pk1</th>\n",
       "      <th>a</th>\n",
       "      <th>b</th>\n",
       "    </tr>\n",
       "  </thead>\n",
       "  <tbody>\n",
       "    <tr>\n",
       "      <th>0</th>\n",
       "      <td>1</td>\n",
       "      <td>a1</td>\n",
       "      <td>b1</td>\n",
       "    </tr>\n",
       "    <tr>\n",
       "      <th>1</th>\n",
       "      <td>2</td>\n",
       "      <td>a2</td>\n",
       "      <td>b2</td>\n",
       "    </tr>\n",
       "  </tbody>\n",
       "</table>\n",
       "</div>"
      ],
      "text/plain": [
       "   pk1   a   b\n",
       "0    1  a1  b1\n",
       "1    2  a2  b2"
      ]
     },
     "execution_count": 11,
     "metadata": {},
     "output_type": "execute_result"
    }
   ],
   "source": [
    "df1"
   ]
  },
  {
   "cell_type": "code",
   "execution_count": 12,
   "metadata": {},
   "outputs": [
    {
     "data": {
      "text/html": [
       "<div>\n",
       "<style scoped>\n",
       "    .dataframe tbody tr th:only-of-type {\n",
       "        vertical-align: middle;\n",
       "    }\n",
       "\n",
       "    .dataframe tbody tr th {\n",
       "        vertical-align: top;\n",
       "    }\n",
       "\n",
       "    .dataframe thead th {\n",
       "        text-align: right;\n",
       "    }\n",
       "</style>\n",
       "<table border=\"1\" class=\"dataframe\">\n",
       "  <thead>\n",
       "    <tr style=\"text-align: right;\">\n",
       "      <th></th>\n",
       "      <th>pk2</th>\n",
       "      <th>c</th>\n",
       "      <th>d</th>\n",
       "      <th>fk_t2_t1</th>\n",
       "    </tr>\n",
       "  </thead>\n",
       "  <tbody>\n",
       "    <tr>\n",
       "      <th>0</th>\n",
       "      <td>11</td>\n",
       "      <td>c11</td>\n",
       "      <td>d11</td>\n",
       "      <td>1</td>\n",
       "    </tr>\n",
       "    <tr>\n",
       "      <th>1</th>\n",
       "      <td>12</td>\n",
       "      <td>c12</td>\n",
       "      <td>d12</td>\n",
       "      <td>1</td>\n",
       "    </tr>\n",
       "    <tr>\n",
       "      <th>2</th>\n",
       "      <td>13</td>\n",
       "      <td>c13</td>\n",
       "      <td>d13</td>\n",
       "      <td>2</td>\n",
       "    </tr>\n",
       "    <tr>\n",
       "      <th>3</th>\n",
       "      <td>14</td>\n",
       "      <td>c14</td>\n",
       "      <td>d14</td>\n",
       "      <td>2</td>\n",
       "    </tr>\n",
       "    <tr>\n",
       "      <th>4</th>\n",
       "      <td>15</td>\n",
       "      <td>c15</td>\n",
       "      <td>d15</td>\n",
       "      <td>2</td>\n",
       "    </tr>\n",
       "  </tbody>\n",
       "</table>\n",
       "</div>"
      ],
      "text/plain": [
       "   pk2    c    d  fk_t2_t1\n",
       "0   11  c11  d11         1\n",
       "1   12  c12  d12         1\n",
       "2   13  c13  d13         2\n",
       "3   14  c14  d14         2\n",
       "4   15  c15  d15         2"
      ]
     },
     "execution_count": 12,
     "metadata": {},
     "output_type": "execute_result"
    }
   ],
   "source": [
    "df2"
   ]
  },
  {
   "cell_type": "code",
   "execution_count": 13,
   "metadata": {},
   "outputs": [
    {
     "data": {
      "text/html": [
       "<div>\n",
       "<style scoped>\n",
       "    .dataframe tbody tr th:only-of-type {\n",
       "        vertical-align: middle;\n",
       "    }\n",
       "\n",
       "    .dataframe tbody tr th {\n",
       "        vertical-align: top;\n",
       "    }\n",
       "\n",
       "    .dataframe thead th {\n",
       "        text-align: right;\n",
       "    }\n",
       "</style>\n",
       "<table border=\"1\" class=\"dataframe\">\n",
       "  <thead>\n",
       "    <tr style=\"text-align: right;\">\n",
       "      <th></th>\n",
       "      <th>pk3</th>\n",
       "      <th>e</th>\n",
       "      <th>f</th>\n",
       "      <th>fk_t3_t2</th>\n",
       "    </tr>\n",
       "  </thead>\n",
       "  <tbody>\n",
       "    <tr>\n",
       "      <th>0</th>\n",
       "      <td>101</td>\n",
       "      <td>e101</td>\n",
       "      <td>f101</td>\n",
       "      <td>11</td>\n",
       "    </tr>\n",
       "    <tr>\n",
       "      <th>1</th>\n",
       "      <td>102</td>\n",
       "      <td>e102</td>\n",
       "      <td>f102</td>\n",
       "      <td>11</td>\n",
       "    </tr>\n",
       "    <tr>\n",
       "      <th>2</th>\n",
       "      <td>103</td>\n",
       "      <td>e103</td>\n",
       "      <td>f103</td>\n",
       "      <td>12</td>\n",
       "    </tr>\n",
       "    <tr>\n",
       "      <th>3</th>\n",
       "      <td>104</td>\n",
       "      <td>e104</td>\n",
       "      <td>f104</td>\n",
       "      <td>12</td>\n",
       "    </tr>\n",
       "    <tr>\n",
       "      <th>4</th>\n",
       "      <td>105</td>\n",
       "      <td>e105</td>\n",
       "      <td>f105</td>\n",
       "      <td>13</td>\n",
       "    </tr>\n",
       "    <tr>\n",
       "      <th>5</th>\n",
       "      <td>106</td>\n",
       "      <td>e106</td>\n",
       "      <td>f106</td>\n",
       "      <td>13</td>\n",
       "    </tr>\n",
       "    <tr>\n",
       "      <th>6</th>\n",
       "      <td>107</td>\n",
       "      <td>e107</td>\n",
       "      <td>f107</td>\n",
       "      <td>14</td>\n",
       "    </tr>\n",
       "    <tr>\n",
       "      <th>7</th>\n",
       "      <td>108</td>\n",
       "      <td>e108</td>\n",
       "      <td>f108</td>\n",
       "      <td>14</td>\n",
       "    </tr>\n",
       "    <tr>\n",
       "      <th>8</th>\n",
       "      <td>109</td>\n",
       "      <td>e109</td>\n",
       "      <td>f109</td>\n",
       "      <td>15</td>\n",
       "    </tr>\n",
       "    <tr>\n",
       "      <th>9</th>\n",
       "      <td>110</td>\n",
       "      <td>e110</td>\n",
       "      <td>f110</td>\n",
       "      <td>15</td>\n",
       "    </tr>\n",
       "  </tbody>\n",
       "</table>\n",
       "</div>"
      ],
      "text/plain": [
       "   pk3     e     f  fk_t3_t2\n",
       "0  101  e101  f101        11\n",
       "1  102  e102  f102        11\n",
       "2  103  e103  f103        12\n",
       "3  104  e104  f104        12\n",
       "4  105  e105  f105        13\n",
       "5  106  e106  f106        13\n",
       "6  107  e107  f107        14\n",
       "7  108  e108  f108        14\n",
       "8  109  e109  f109        15\n",
       "9  110  e110  f110        15"
      ]
     },
     "execution_count": 13,
     "metadata": {},
     "output_type": "execute_result"
    }
   ],
   "source": [
    "df3"
   ]
  },
  {
   "cell_type": "markdown",
   "metadata": {},
   "source": [
    "# SQLExe"
   ]
  },
  {
   "cell_type": "code",
   "execution_count": 14,
   "metadata": {},
   "outputs": [],
   "source": [
    "def sqlexe(engine, sql):\n",
    "    with engine.connect() as conn:\n",
    "        df = pd.read_sql_query(text(sql), conn)\n",
    "    return df"
   ]
  },
  {
   "cell_type": "markdown",
   "metadata": {},
   "source": [
    "# AST"
   ]
  },
  {
   "cell_type": "code",
   "execution_count": 15,
   "metadata": {},
   "outputs": [],
   "source": [
    "@dataclass\n",
    "class Cond():\n",
    "    l: str\n",
    "    r: str\n",
    "\n",
    "@dataclass\n",
    "class AST():\n",
    "    name: str\n",
    "    attr: list[str]\n",
    "    cond: Optional[Cond] = None\n",
    "    sub: Optional['AST'] = None"
   ]
  },
  {
   "cell_type": "markdown",
   "metadata": {},
   "source": [
    "# Code zur Lösung der Aufgabenstellung\n",
    "Bitte in diesem Abschnitt ihren kompletten Code unterbringen. Alle anderen Abschnitte unverändert lassen."
   ]
  },
  {
   "cell_type": "code",
   "execution_count": 26,
   "metadata": {},
   "outputs": [],
   "source": [
    "def gql_to_jon(gql: AST) -> str:\n",
    "    return dummy_json"
   ]
  },
  {
   "cell_type": "markdown",
   "metadata": {},
   "source": [
    "# Auswertungsbeispiele"
   ]
  },
  {
   "cell_type": "markdown",
   "metadata": {},
   "source": [
    "## 01"
   ]
  },
  {
   "cell_type": "code",
   "execution_count": 28,
   "metadata": {},
   "outputs": [
    {
     "name": "stdout",
     "output_type": "stream",
     "text": [
      "AST(name='t1', attr=['a'], cond=None, sub=None)\n",
      "\n",
      "[\n",
      "    {\n",
      "        \"dummy\": \"bisher nicht implemenietiert\"\n",
      "    }\n",
      "]\n"
     ]
    }
   ],
   "source": [
    "ast01 = AST(\"t1\", [\"a\"])\n",
    "print(ast01)\n",
    "print()\n",
    "jsonstr = gql_to_jon(ast01)\n",
    "print(json.dumps(jsonstr, sort_keys=True, indent=4))"
   ]
  },
  {
   "cell_type": "markdown",
   "metadata": {},
   "source": [
    "## 02"
   ]
  },
  {
   "cell_type": "code",
   "execution_count": 33,
   "metadata": {},
   "outputs": [
    {
     "name": "stdout",
     "output_type": "stream",
     "text": [
      "AST(name='t1', attr=['a', 'b'], cond=Cond(l='a', r='a1'), sub=None)\n",
      "\n",
      "[\n",
      "    {\n",
      "        \"dummy\": \"bisher nicht implemenietiert\"\n",
      "    }\n",
      "]\n"
     ]
    }
   ],
   "source": [
    "ast02 = AST(\"t1\", [\"a\", \"b\"], Cond(\"a\", \"a1\"))\n",
    "print(ast02)\n",
    "print()\n",
    "jsonstr = gql_to_jon(ast01)\n",
    "print(json.dumps(jsonstr, sort_keys=True, indent=4))"
   ]
  },
  {
   "cell_type": "markdown",
   "metadata": {},
   "source": [
    "## 03"
   ]
  },
  {
   "cell_type": "code",
   "execution_count": 32,
   "metadata": {},
   "outputs": [
    {
     "name": "stdout",
     "output_type": "stream",
     "text": [
      "AST(name='t1', attr=['a', 'b'], cond=Cond(l='a', r='a1'), sub=AST(name='t2', attr=['c', 'd'], cond=None, sub=None))\n",
      "\n",
      "[\n",
      "    {\n",
      "        \"dummy\": \"bisher nicht implemenietiert\"\n",
      "    }\n",
      "]\n"
     ]
    }
   ],
   "source": [
    "ast03 = AST(\"t1\", [\"a\", \"b\"], Cond(\"a\", \"a1\"), sub=AST(\"t2\", [\"c\", \"d\"]))\n",
    "print(ast03)\n",
    "print()\n",
    "jsonstr = gql_to_jon(ast01)\n",
    "print(json.dumps(jsonstr, sort_keys=True, indent=4))"
   ]
  },
  {
   "cell_type": "markdown",
   "metadata": {},
   "source": [
    "## 04"
   ]
  },
  {
   "cell_type": "code",
   "execution_count": 31,
   "metadata": {},
   "outputs": [
    {
     "name": "stdout",
     "output_type": "stream",
     "text": [
      "AST(name='t1', attr=['a', 'b'], cond=Cond(l='a', r='a1'), sub=AST(name='t2', attr=['c', 'd'], cond=Cond(l='d', r='d12'), sub=None))\n",
      "\n",
      "[\n",
      "    {\n",
      "        \"dummy\": \"bisher nicht implemenietiert\"\n",
      "    }\n",
      "]\n"
     ]
    }
   ],
   "source": [
    "ast04 = AST(\"t1\", [\"a\", \"b\"], Cond(\"a\", \"a1\"), sub=AST(\"t2\", [\"c\", \"d\"], Cond(\"d\", \"d12\")))\n",
    "print(ast04)\n",
    "print()\n",
    "jsonstr = gql_to_jon(ast01)\n",
    "print(json.dumps(jsonstr, sort_keys=True, indent=4))"
   ]
  },
  {
   "cell_type": "markdown",
   "metadata": {},
   "source": [
    "## 05"
   ]
  },
  {
   "cell_type": "code",
   "execution_count": 30,
   "metadata": {},
   "outputs": [
    {
     "name": "stdout",
     "output_type": "stream",
     "text": [
      "AST(name='t1', attr=['a', 'b'], cond=Cond(l='a', r='a1'), sub=AST(name='t2', attr=['c', 'd'], cond=Cond(l='d', r='d12'), sub=AST(name='t3', attr=['e', 'f'], cond=None, sub=None)))\n",
      "\n",
      "[\n",
      "    {\n",
      "        \"dummy\": \"bisher nicht implemenietiert\"\n",
      "    }\n",
      "]\n"
     ]
    }
   ],
   "source": [
    "ast05_t3 = AST(\"t3\", [\"e\", \"f\"])\n",
    "ast05 = AST(\"t1\", [\"a\", \"b\"], Cond(\"a\", \"a1\"), sub=AST(\"t2\", [\"c\", \"d\"], Cond(\"d\", \"d12\"), sub=ast05_t3))\n",
    "print(ast05)\n",
    "print()\n",
    "jsonstr = gql_to_jon(ast01)\n",
    "print(json.dumps(jsonstr, sort_keys=True, indent=4))"
   ]
  },
  {
   "cell_type": "markdown",
   "metadata": {},
   "source": [
    "## 06"
   ]
  },
  {
   "cell_type": "code",
   "execution_count": 29,
   "metadata": {},
   "outputs": [
    {
     "name": "stdout",
     "output_type": "stream",
     "text": [
      "AST(name='t1', attr=['a', 'b'], cond=Cond(l='a', r='a1'), sub=AST(name='t2', attr=['c', 'd'], cond=Cond(l='d', r='d12'), sub=AST(name='t3', attr=['e', 'f'], cond=Cond(l='f', r='f103'), sub=None)))\n",
      "\n",
      "[\n",
      "    {\n",
      "        \"dummy\": \"bisher nicht implemenietiert\"\n",
      "    }\n",
      "]\n"
     ]
    }
   ],
   "source": [
    "ast06_t3 = AST(\"t3\", [\"e\", \"f\"], Cond(\"f\", \"f103\"))\n",
    "ast06 = AST(\"t1\", [\"a\", \"b\"], Cond(\"a\", \"a1\"), sub=AST(\"t2\", [\"c\", \"d\"], Cond(\"d\", \"d12\"), sub=ast06_t3))\n",
    "print(ast06)\n",
    "print()\n",
    "jsonstr = gql_to_jon(ast01)\n",
    "print(json.dumps(jsonstr, sort_keys=True, indent=4))"
   ]
  }
 ],
 "metadata": {
  "kernelspec": {
   "display_name": "Python 3 (ipykernel)",
   "language": "python",
   "name": "python3"
  },
  "language_info": {
   "codemirror_mode": {
    "name": "ipython",
    "version": 3
   },
   "file_extension": ".py",
   "mimetype": "text/x-python",
   "name": "python",
   "nbconvert_exporter": "python",
   "pygments_lexer": "ipython3",
   "version": "3.12.8"
  },
  "vscode": {
   "interpreter": {
    "hash": "2d6fa041adfecd6e27df7d45c6447a3fc1437381c85a5efcc15b960708d9d702"
   }
  }
 },
 "nbformat": 4,
 "nbformat_minor": 4
}
