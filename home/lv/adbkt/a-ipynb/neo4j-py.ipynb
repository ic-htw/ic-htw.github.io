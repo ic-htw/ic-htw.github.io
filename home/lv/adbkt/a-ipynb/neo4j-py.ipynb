{
 "cells": [
  {
   "cell_type": "code",
   "execution_count": null,
   "metadata": {},
   "outputs": [],
   "source": [
    "!uv pip install neo4j"
   ]
  },
  {
   "cell_type": "code",
   "execution_count": null,
   "metadata": {},
   "outputs": [],
   "source": [
    "import pandas as pd\n",
    "from neo4j import GraphDatabase\n",
    "from dotenv import dotenv_values\n",
    "\n",
    "c_neo4j = dotenv_values(\"cred-neo4j.txt\")\n",
    "neo4j_host = c_neo4j[\"neo4j_host\"]\n",
    "neo4j_auth = (c_neo4j[\"neo4j_userid\"], c_neo4j[\"neo4j_password\"])\n",
    "\n",
    "q = \"match (n:Haltestelle) return n.name\"\n",
    "with GraphDatabase.driver(neo4j_host, auth=neo4j_auth) as driver:\n",
    "    with driver.session() as session:\n",
    "        result = session.run(q)\n",
    "        df = pd.DataFrame(result.data())\n",
    "\n",
    "df"
   ]
  }
 ],
 "metadata": {
  "kernelspec": {
   "display_name": "Python 3 (ipykernel)",
   "language": "python",
   "name": "python3"
  },
  "language_info": {
   "codemirror_mode": {
    "name": "ipython",
    "version": 3
   },
   "file_extension": ".py",
   "mimetype": "text/x-python",
   "name": "python",
   "nbconvert_exporter": "python",
   "pygments_lexer": "ipython3",
   "version": "3.12.8"
  }
 },
 "nbformat": 4,
 "nbformat_minor": 4
}
